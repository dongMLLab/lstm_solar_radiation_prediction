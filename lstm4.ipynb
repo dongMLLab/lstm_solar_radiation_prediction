{
 "cells": [
  {
   "cell_type": "code",
   "execution_count": 1,
   "metadata": {},
   "outputs": [],
   "source": [
    "import tensorflow as tf\n",
    "from keras.models import Sequential\n",
    "from keras.layers import LSTM, Dense, Dropout, Input\n",
    "from keras.optimizers.legacy import Adam\n",
    "from sklearn.preprocessing import MinMaxScaler\n",
    "from keras.callbacks import EarlyStopping\n",
    "import pandas as pd\n",
    "import numpy as np"
   ]
  },
  {
   "cell_type": "code",
   "execution_count": 2,
   "metadata": {},
   "outputs": [
    {
     "data": {
      "text/html": [
       "<div>\n",
       "<style scoped>\n",
       "    .dataframe tbody tr th:only-of-type {\n",
       "        vertical-align: middle;\n",
       "    }\n",
       "\n",
       "    .dataframe tbody tr th {\n",
       "        vertical-align: top;\n",
       "    }\n",
       "\n",
       "    .dataframe thead th {\n",
       "        text-align: right;\n",
       "    }\n",
       "</style>\n",
       "<table border=\"1\" class=\"dataframe\">\n",
       "  <thead>\n",
       "    <tr style=\"text-align: right;\">\n",
       "      <th></th>\n",
       "      <th>temperature</th>\n",
       "      <th>rain</th>\n",
       "      <th>wind_speed</th>\n",
       "      <th>wind_direction</th>\n",
       "      <th>humidity</th>\n",
       "      <th>pressure</th>\n",
       "      <th>total_cloud</th>\n",
       "      <th>visibility</th>\n",
       "      <th>solar_radiation</th>\n",
       "    </tr>\n",
       "  </thead>\n",
       "  <tbody>\n",
       "    <tr>\n",
       "      <th>0</th>\n",
       "      <td>4.2</td>\n",
       "      <td>0.0</td>\n",
       "      <td>2.1</td>\n",
       "      <td>320.0</td>\n",
       "      <td>68.0</td>\n",
       "      <td>1021.5</td>\n",
       "      <td>0.0</td>\n",
       "      <td>20000.0</td>\n",
       "      <td>0.0</td>\n",
       "    </tr>\n",
       "    <tr>\n",
       "      <th>1</th>\n",
       "      <td>4.1</td>\n",
       "      <td>0.0</td>\n",
       "      <td>1.9</td>\n",
       "      <td>320.0</td>\n",
       "      <td>67.0</td>\n",
       "      <td>1021.4</td>\n",
       "      <td>0.0</td>\n",
       "      <td>20000.0</td>\n",
       "      <td>0.0</td>\n",
       "    </tr>\n",
       "    <tr>\n",
       "      <th>2</th>\n",
       "      <td>3.9</td>\n",
       "      <td>0.0</td>\n",
       "      <td>1.0</td>\n",
       "      <td>250.0</td>\n",
       "      <td>68.0</td>\n",
       "      <td>1021.7</td>\n",
       "      <td>0.0</td>\n",
       "      <td>20000.0</td>\n",
       "      <td>0.0</td>\n",
       "    </tr>\n",
       "    <tr>\n",
       "      <th>3</th>\n",
       "      <td>3.7</td>\n",
       "      <td>0.0</td>\n",
       "      <td>1.9</td>\n",
       "      <td>320.0</td>\n",
       "      <td>70.0</td>\n",
       "      <td>1021.6</td>\n",
       "      <td>0.0</td>\n",
       "      <td>20000.0</td>\n",
       "      <td>0.0</td>\n",
       "    </tr>\n",
       "    <tr>\n",
       "      <th>4</th>\n",
       "      <td>3.6</td>\n",
       "      <td>0.0</td>\n",
       "      <td>1.1</td>\n",
       "      <td>50.0</td>\n",
       "      <td>72.0</td>\n",
       "      <td>1020.7</td>\n",
       "      <td>0.0</td>\n",
       "      <td>17950.0</td>\n",
       "      <td>0.0</td>\n",
       "    </tr>\n",
       "    <tr>\n",
       "      <th>...</th>\n",
       "      <td>...</td>\n",
       "      <td>...</td>\n",
       "      <td>...</td>\n",
       "      <td>...</td>\n",
       "      <td>...</td>\n",
       "      <td>...</td>\n",
       "      <td>...</td>\n",
       "      <td>...</td>\n",
       "      <td>...</td>\n",
       "    </tr>\n",
       "    <tr>\n",
       "      <th>59562</th>\n",
       "      <td>18.7</td>\n",
       "      <td>0.0</td>\n",
       "      <td>1.8</td>\n",
       "      <td>180.0</td>\n",
       "      <td>72.0</td>\n",
       "      <td>15.5</td>\n",
       "      <td>2.0</td>\n",
       "      <td>4057.0</td>\n",
       "      <td>0.0</td>\n",
       "    </tr>\n",
       "    <tr>\n",
       "      <th>59563</th>\n",
       "      <td>16.4</td>\n",
       "      <td>0.0</td>\n",
       "      <td>0.7</td>\n",
       "      <td>200.0</td>\n",
       "      <td>84.0</td>\n",
       "      <td>15.6</td>\n",
       "      <td>3.0</td>\n",
       "      <td>3245.0</td>\n",
       "      <td>0.0</td>\n",
       "    </tr>\n",
       "    <tr>\n",
       "      <th>59564</th>\n",
       "      <td>14.4</td>\n",
       "      <td>0.0</td>\n",
       "      <td>0.5</td>\n",
       "      <td>70.0</td>\n",
       "      <td>88.0</td>\n",
       "      <td>14.4</td>\n",
       "      <td>6.0</td>\n",
       "      <td>2590.0</td>\n",
       "      <td>0.0</td>\n",
       "    </tr>\n",
       "    <tr>\n",
       "      <th>59565</th>\n",
       "      <td>13.0</td>\n",
       "      <td>0.0</td>\n",
       "      <td>0.1</td>\n",
       "      <td>0.0</td>\n",
       "      <td>92.0</td>\n",
       "      <td>13.7</td>\n",
       "      <td>5.0</td>\n",
       "      <td>1632.0</td>\n",
       "      <td>0.0</td>\n",
       "    </tr>\n",
       "    <tr>\n",
       "      <th>59566</th>\n",
       "      <td>12.1</td>\n",
       "      <td>0.0</td>\n",
       "      <td>0.0</td>\n",
       "      <td>0.0</td>\n",
       "      <td>94.0</td>\n",
       "      <td>13.2</td>\n",
       "      <td>6.0</td>\n",
       "      <td>1913.0</td>\n",
       "      <td>0.0</td>\n",
       "    </tr>\n",
       "  </tbody>\n",
       "</table>\n",
       "<p>59567 rows × 9 columns</p>\n",
       "</div>"
      ],
      "text/plain": [
       "       temperature  rain  wind_speed  wind_direction  humidity  pressure  \\\n",
       "0              4.2   0.0         2.1           320.0      68.0    1021.5   \n",
       "1              4.1   0.0         1.9           320.0      67.0    1021.4   \n",
       "2              3.9   0.0         1.0           250.0      68.0    1021.7   \n",
       "3              3.7   0.0         1.9           320.0      70.0    1021.6   \n",
       "4              3.6   0.0         1.1            50.0      72.0    1020.7   \n",
       "...            ...   ...         ...             ...       ...       ...   \n",
       "59562         18.7   0.0         1.8           180.0      72.0      15.5   \n",
       "59563         16.4   0.0         0.7           200.0      84.0      15.6   \n",
       "59564         14.4   0.0         0.5            70.0      88.0      14.4   \n",
       "59565         13.0   0.0         0.1             0.0      92.0      13.7   \n",
       "59566         12.1   0.0         0.0             0.0      94.0      13.2   \n",
       "\n",
       "       total_cloud  visibility  solar_radiation  \n",
       "0              0.0     20000.0              0.0  \n",
       "1              0.0     20000.0              0.0  \n",
       "2              0.0     20000.0              0.0  \n",
       "3              0.0     20000.0              0.0  \n",
       "4              0.0     17950.0              0.0  \n",
       "...            ...         ...              ...  \n",
       "59562          2.0      4057.0              0.0  \n",
       "59563          3.0      3245.0              0.0  \n",
       "59564          6.0      2590.0              0.0  \n",
       "59565          5.0      1632.0              0.0  \n",
       "59566          6.0      1913.0              0.0  \n",
       "\n",
       "[59567 rows x 9 columns]"
      ]
     },
     "execution_count": 2,
     "metadata": {},
     "output_type": "execute_result"
    }
   ],
   "source": [
    "data = pd.read_csv(\"combined.csv\")\n",
    "data = data.drop(\"date.1\", axis=1)\n",
    "data = data.drop(\"date\", axis=1)\n",
    "data"
   ]
  },
  {
   "cell_type": "code",
   "execution_count": 3,
   "metadata": {},
   "outputs": [],
   "source": [
    "# data[\"date\"] = pd.to_datetime(data[\"date\"])\n",
    "# data = data.set_index(\"date\")\n",
    "# data"
   ]
  },
  {
   "cell_type": "code",
   "execution_count": 8,
   "metadata": {},
   "outputs": [],
   "source": [
    "scaler = MinMaxScaler(feature_range=(0, 1))\n",
    "\n",
    "datax1 = scaler.fit_transform(data[[\"total_cloud\", \"rain\", \"visibility\", \"humidity\"]])\n",
    "datax2 = scaler.fit_transform(data[[\"total_cloud\", \"rain\", \"visibility\", \"humidity\", \"wind_speed\", \"wind_direction\", \"pressure\", \"temperature\"]])\n",
    "datay = scaler.fit_transform(data[\"solar_radiation\"].to_numpy().reshape(-1, 1))"
   ]
  },
  {
   "cell_type": "code",
   "execution_count": 9,
   "metadata": {},
   "outputs": [
    {
     "data": {
      "text/plain": [
       "(59567, 1)"
      ]
     },
     "execution_count": 9,
     "metadata": {},
     "output_type": "execute_result"
    }
   ],
   "source": [
    "# Train\n",
    "time_steps = 48\n",
    "features = 4\n",
    "\n",
    "feature_array = datax1\n",
    "dv_array = datay\n",
    "feature_array.shape\n",
    "dv_array.shape"
   ]
  },
  {
   "cell_type": "code",
   "execution_count": 10,
   "metadata": {},
   "outputs": [
    {
     "name": "stderr",
     "output_type": "stream",
     "text": [
      "/var/folders/td/8pk_dg054tl5dgjkt99r7wf80000gn/T/ipykernel_200/3162236423.py:10: DeprecationWarning: Conversion of an array with ndim > 0 to a scalar is deprecated, and will error in future. Ensure you extract a single element from your array before performing this operation. (Deprecated NumPy 1.25.)\n",
      "  y1[i] = dv_array[i + time_steps]\n"
     ]
    }
   ],
   "source": [
    "\n",
    "# array = data[\"solar_radiation\"].to_numpy()\n",
    "\n",
    "num_sequence = len(feature_array) - time_steps\n",
    "\n",
    "X1 = np.zeros((num_sequence, time_steps, features))\n",
    "y1 = np.zeros(num_sequence)\n",
    "\n",
    "for i in range(num_sequence):\n",
    "    X1[i] = feature_array[i: i+time_steps]\n",
    "    y1[i] = dv_array[i + time_steps]\n"
   ]
  },
  {
   "cell_type": "code",
   "execution_count": 11,
   "metadata": {},
   "outputs": [],
   "source": [
    "train_size =round(len(X1) * 0.7)\n",
    "\n",
    "trainX = X1[:train_size]\n",
    "trainy = y1[:train_size]\n",
    "\n",
    "testX = X1[train_size:]\n",
    "testy = y1[train_size:]\n"
   ]
  },
  {
   "cell_type": "code",
   "execution_count": 12,
   "metadata": {},
   "outputs": [
    {
     "name": "stdout",
     "output_type": "stream",
     "text": [
      "Model: \"sequential_1\"\n",
      "_________________________________________________________________\n",
      " Layer (type)                Output Shape              Param #   \n",
      "=================================================================\n",
      " lstm_1 (LSTM)               (None, 10)                600       \n",
      "                                                                 \n",
      " dense_1 (Dense)             (None, 1)                 11        \n",
      "                                                                 \n",
      "=================================================================\n",
      "Total params: 611 (2.39 KB)\n",
      "Trainable params: 611 (2.39 KB)\n",
      "Non-trainable params: 0 (0.00 Byte)\n",
      "_________________________________________________________________\n"
     ]
    }
   ],
   "source": [
    "optimizer = Adam(learning_rate=0.0001)\n",
    "\n",
    "model1 = Sequential()\n",
    "\n",
    "model1.add(Input((48,4)))\n",
    "model1.add(LSTM(10, activation=\"relu\"))\n",
    "model1.add(Dense(1))\n",
    "\n",
    "model1.compile(loss=\"mse\", optimizer=optimizer)\n",
    "\n",
    "model1.summary()"
   ]
  },
  {
   "cell_type": "code",
   "execution_count": 13,
   "metadata": {},
   "outputs": [
    {
     "name": "stdout",
     "output_type": "stream",
     "text": [
      "Epoch 1/3000\n",
      "521/521 [==============================] - 3s 5ms/step - loss: 0.1720 - val_loss: 0.0964\n",
      "Epoch 2/3000\n",
      "521/521 [==============================] - 3s 5ms/step - loss: 0.0657 - val_loss: 0.0587\n",
      "Epoch 3/3000\n",
      "521/521 [==============================] - 3s 5ms/step - loss: 0.0500 - val_loss: 0.0558\n",
      "Epoch 4/3000\n",
      "521/521 [==============================] - 3s 5ms/step - loss: 0.0487 - val_loss: 0.0545\n",
      "Epoch 5/3000\n",
      "521/521 [==============================] - 3s 5ms/step - loss: 0.0478 - val_loss: 0.0529\n",
      "Epoch 6/3000\n",
      "521/521 [==============================] - 3s 5ms/step - loss: 0.0470 - val_loss: 0.0508\n",
      "Epoch 7/3000\n",
      "521/521 [==============================] - 3s 5ms/step - loss: 0.0462 - val_loss: 0.0488\n",
      "Epoch 8/3000\n",
      "521/521 [==============================] - 3s 5ms/step - loss: 0.0453 - val_loss: 0.0463\n",
      "Epoch 9/3000\n",
      "521/521 [==============================] - 3s 5ms/step - loss: 0.0441 - val_loss: 0.0407\n",
      "Epoch 10/3000\n",
      "521/521 [==============================] - 3s 5ms/step - loss: 0.0422 - val_loss: 0.0360\n",
      "Epoch 11/3000\n",
      "521/521 [==============================] - 3s 5ms/step - loss: 0.0405 - val_loss: 0.0333\n",
      "Epoch 12/3000\n",
      "521/521 [==============================] - 3s 5ms/step - loss: 0.0389 - val_loss: 0.0310\n",
      "Epoch 13/3000\n",
      "521/521 [==============================] - 3s 5ms/step - loss: 0.0370 - val_loss: 0.0285\n",
      "Epoch 14/3000\n",
      "521/521 [==============================] - 3s 5ms/step - loss: 0.0349 - val_loss: 0.0270\n",
      "Epoch 15/3000\n",
      "521/521 [==============================] - 3s 5ms/step - loss: 0.0325 - val_loss: 0.0258\n",
      "Epoch 16/3000\n",
      "521/521 [==============================] - 3s 6ms/step - loss: 0.0307 - val_loss: 0.0251\n",
      "Epoch 17/3000\n",
      "521/521 [==============================] - 3s 5ms/step - loss: 0.0296 - val_loss: 0.0248\n",
      "Epoch 18/3000\n",
      "521/521 [==============================] - 3s 5ms/step - loss: 0.0290 - val_loss: 0.0242\n",
      "Epoch 19/3000\n",
      "521/521 [==============================] - 3s 5ms/step - loss: 0.0284 - val_loss: 0.0241\n",
      "Epoch 20/3000\n",
      "521/521 [==============================] - 3s 5ms/step - loss: 0.0280 - val_loss: 0.0239\n",
      "Epoch 21/3000\n",
      "521/521 [==============================] - 3s 5ms/step - loss: 0.0276 - val_loss: 0.0236\n",
      "Epoch 22/3000\n",
      "521/521 [==============================] - 3s 5ms/step - loss: 0.0272 - val_loss: 0.0235\n",
      "Epoch 23/3000\n",
      "521/521 [==============================] - 3s 5ms/step - loss: 0.0268 - val_loss: 0.0232\n",
      "Epoch 24/3000\n",
      "521/521 [==============================] - 3s 5ms/step - loss: 0.0264 - val_loss: 0.0230\n",
      "Epoch 25/3000\n",
      "521/521 [==============================] - 3s 5ms/step - loss: 0.0261 - val_loss: 0.0227\n",
      "Epoch 26/3000\n",
      "521/521 [==============================] - 3s 5ms/step - loss: 0.0257 - val_loss: 0.0223\n",
      "Epoch 27/3000\n",
      "521/521 [==============================] - 3s 5ms/step - loss: 0.0253 - val_loss: 0.0222\n",
      "Epoch 28/3000\n",
      "521/521 [==============================] - 3s 5ms/step - loss: 0.0249 - val_loss: 0.0219\n",
      "Epoch 29/3000\n",
      "521/521 [==============================] - 2s 5ms/step - loss: 0.0246 - val_loss: 0.0216\n",
      "Epoch 30/3000\n",
      "521/521 [==============================] - 2s 5ms/step - loss: 0.0243 - val_loss: 0.0213\n",
      "Epoch 31/3000\n",
      "521/521 [==============================] - 3s 5ms/step - loss: 0.0239 - val_loss: 0.0210\n",
      "Epoch 32/3000\n",
      "521/521 [==============================] - 3s 5ms/step - loss: 0.0236 - val_loss: 0.0208\n",
      "Epoch 33/3000\n",
      "521/521 [==============================] - 2s 5ms/step - loss: 0.0234 - val_loss: 0.0206\n",
      "Epoch 34/3000\n",
      "521/521 [==============================] - 2s 5ms/step - loss: 0.0232 - val_loss: 0.0206\n",
      "Epoch 35/3000\n",
      "521/521 [==============================] - 3s 5ms/step - loss: 0.0230 - val_loss: 0.0204\n",
      "Epoch 36/3000\n",
      "521/521 [==============================] - 3s 5ms/step - loss: 0.0228 - val_loss: 0.0203\n",
      "Epoch 37/3000\n",
      "521/521 [==============================] - 2s 5ms/step - loss: 0.0228 - val_loss: 0.0202\n",
      "Epoch 38/3000\n",
      "521/521 [==============================] - 3s 5ms/step - loss: 0.0226 - val_loss: 0.0202\n",
      "Epoch 39/3000\n",
      "521/521 [==============================] - 2s 5ms/step - loss: 0.0225 - val_loss: 0.0200\n",
      "Epoch 40/3000\n",
      "521/521 [==============================] - 2s 5ms/step - loss: 0.0224 - val_loss: 0.0199\n",
      "Epoch 41/3000\n",
      "521/521 [==============================] - 2s 5ms/step - loss: 0.0223 - val_loss: 0.0200\n",
      "Epoch 42/3000\n",
      "521/521 [==============================] - 2s 5ms/step - loss: 0.0222 - val_loss: 0.0198\n",
      "Epoch 43/3000\n",
      "521/521 [==============================] - 2s 5ms/step - loss: 0.0221 - val_loss: 0.0200\n",
      "Epoch 44/3000\n",
      "521/521 [==============================] - 3s 5ms/step - loss: 0.0220 - val_loss: 0.0198\n",
      "Epoch 45/3000\n",
      "521/521 [==============================] - 3s 5ms/step - loss: 0.0220 - val_loss: 0.0197\n",
      "Epoch 46/3000\n",
      "521/521 [==============================] - 2s 5ms/step - loss: 0.0219 - val_loss: 0.0202\n",
      "Epoch 47/3000\n",
      "521/521 [==============================] - 2s 5ms/step - loss: 0.0218 - val_loss: 0.0198\n",
      "Epoch 48/3000\n",
      "521/521 [==============================] - 2s 5ms/step - loss: 0.0218 - val_loss: 0.0198\n",
      "Epoch 49/3000\n",
      "521/521 [==============================] - 2s 5ms/step - loss: 0.0217 - val_loss: 0.0199\n",
      "Epoch 50/3000\n",
      "521/521 [==============================] - 3s 5ms/step - loss: 0.0216 - val_loss: 0.0198\n",
      "Epoch 50: early stopping\n"
     ]
    },
    {
     "data": {
      "text/plain": [
       "<Axes: >"
      ]
     },
     "execution_count": 13,
     "metadata": {},
     "output_type": "execute_result"
    },
    {
     "data": {
      "image/png": "[encoded data removed]",
      "text/plain": [
       "<Figure size 640x480 with 1 Axes>"
      ]
     },
     "metadata": {},
     "output_type": "display_data"
    }
   ],
   "source": [
    "early_stopping = EarlyStopping(monitor=\"val_loss\", patience=5, verbose=5, mode=\"auto\")\n",
    "trained = model1.fit(trainX, trainy, validation_split=0.2, batch_size=64, epochs=3000, callbacks = [early_stopping])\n",
    "pd.DataFrame.from_dict(trained.history).plot()"
   ]
  },
  {
   "cell_type": "code",
   "execution_count": 14,
   "metadata": {},
   "outputs": [
    {
     "name": "stdout",
     "output_type": "stream",
     "text": [
      "558/558 [==============================] - 1s 1ms/step - loss: 0.0199\n",
      "Test loss: 0.01990416832268238\n"
     ]
    }
   ],
   "source": [
    "loss = model1.evaluate(testX, testy)\n",
    "print(f\"Test loss: {loss}\")"
   ]
  },
  {
   "cell_type": "code",
   "execution_count": 15,
   "metadata": {},
   "outputs": [
    {
     "name": "stdout",
     "output_type": "stream",
     "text": [
      "558/558 [==============================] - 1s 1ms/step\n"
     ]
    },
    {
     "data": {
      "text/plain": [
       "array([[-0.08604129],\n",
       "       [-0.07613028],\n",
       "       [-0.05098636],\n",
       "       ...,\n",
       "       [-0.15812665],\n",
       "       [-0.1633645 ],\n",
       "       [-0.15657339]], dtype=float32)"
      ]
     },
     "execution_count": 15,
     "metadata": {},
     "output_type": "execute_result"
    }
   ],
   "source": [
    "predicted1 = model1.predict(testX)\n",
    "predicted1"
   ]
  },
  {
   "cell_type": "code",
   "execution_count": 16,
   "metadata": {},
   "outputs": [
    {
     "data": {
      "text/plain": [
       "array([[0.],\n",
       "       [0.],\n",
       "       [0.],\n",
       "       ...,\n",
       "       [0.],\n",
       "       [0.],\n",
       "       [0.]], dtype=float32)"
      ]
     },
     "execution_count": 16,
     "metadata": {},
     "output_type": "execute_result"
    }
   ],
   "source": [
    "predicted1 = np.maximum(0, predicted1)\n",
    "predicted1"
   ]
  },
  {
   "cell_type": "code",
   "execution_count": 17,
   "metadata": {},
   "outputs": [
    {
     "data": {
      "image/png": "[encoded data removed]",
      "text/plain": [
       "<Figure size 640x480 with 1 Axes>"
      ]
     },
     "metadata": {},
     "output_type": "display_data"
    }
   ],
   "source": [
    "import matplotlib.pyplot as plt\n",
    "\n",
    "plt.title(\"Predicted with Correlated Data batch: 64 (sequences)\")\n",
    "plt.plot(  predicted1, c=\"b\", label=\"predicted\")\n",
    "plt.plot( testy,c=\"g\", alpha=.5, label=\"raw\")\n",
    "plt.legend(loc=\"best\")\n",
    "plt.show()"
   ]
  },
  {
   "cell_type": "code",
   "execution_count": 18,
   "metadata": {},
   "outputs": [],
   "source": [
    "from sklearn.metrics import mean_squared_error\n"
   ]
  },
  {
   "cell_type": "code",
   "execution_count": 19,
   "metadata": {},
   "outputs": [
    {
     "data": {
      "text/plain": [
       "(17856, 1)"
      ]
     },
     "execution_count": 19,
     "metadata": {},
     "output_type": "execute_result"
    }
   ],
   "source": [
    "predicted1.shape"
   ]
  },
  {
   "cell_type": "code",
   "execution_count": 20,
   "metadata": {},
   "outputs": [
    {
     "name": "stdout",
     "output_type": "stream",
     "text": [
      "MSE: 0.018857703583226193, RMSE: 0.13732335410710805\n"
     ]
    }
   ],
   "source": [
    "error = mean_squared_error(testy, predicted1)\n",
    "\n",
    "print(\"MSE: {}, RMSE: {}\".format(error, np.sqrt(error)))"
   ]
  },
  {
   "cell_type": "code",
   "execution_count": 21,
   "metadata": {},
   "outputs": [],
   "source": [
    "feature_array2 = datax2\n",
    "dv_array2 = datay\n"
   ]
  },
  {
   "cell_type": "code",
   "execution_count": 22,
   "metadata": {},
   "outputs": [
    {
     "name": "stderr",
     "output_type": "stream",
     "text": [
      "/var/folders/td/8pk_dg054tl5dgjkt99r7wf80000gn/T/ipykernel_200/3088642358.py:11: DeprecationWarning: Conversion of an array with ndim > 0 to a scalar is deprecated, and will error in future. Ensure you extract a single element from your array before performing this operation. (Deprecated NumPy 1.25.)\n",
      "  y2[i] = dv_array2[i + time_steps]\n"
     ]
    }
   ],
   "source": [
    "time_steps = 48\n",
    "features2 = 8\n",
    "\n",
    "num_sequence2 = len(feature_array2) - time_steps\n",
    "\n",
    "X2 = np.zeros((num_sequence2, time_steps, features2))\n",
    "y2 = np.zeros(num_sequence2)\n",
    "\n",
    "for i in range(num_sequence2):\n",
    "    X2[i] = feature_array2[i: i+time_steps]\n",
    "    y2[i] = dv_array2[i + time_steps]"
   ]
  },
  {
   "cell_type": "code",
   "execution_count": 23,
   "metadata": {},
   "outputs": [],
   "source": [
    "train_size =round(len(X2) * 0.7)\n",
    "\n",
    "trainX2 = X2[:train_size]\n",
    "trainy2 = y2[:train_size]\n",
    "\n",
    "testX2 = X2[train_size:]\n",
    "\n",
    "testy2 = y2[train_size:]"
   ]
  },
  {
   "cell_type": "code",
   "execution_count": 24,
   "metadata": {},
   "outputs": [
    {
     "name": "stdout",
     "output_type": "stream",
     "text": [
      "Model: \"sequential_2\"\n",
      "_________________________________________________________________\n",
      " Layer (type)                Output Shape              Param #   \n",
      "=================================================================\n",
      " lstm_2 (LSTM)               (None, 10)                760       \n",
      "                                                                 \n",
      " dense_2 (Dense)             (None, 1)                 11        \n",
      "                                                                 \n",
      "=================================================================\n",
      "Total params: 771 (3.01 KB)\n",
      "Trainable params: 771 (3.01 KB)\n",
      "Non-trainable params: 0 (0.00 Byte)\n",
      "_________________________________________________________________\n"
     ]
    }
   ],
   "source": [
    "optimizer = Adam(learning_rate=0.0001)\n",
    "\n",
    "model2 = Sequential()\n",
    "\n",
    "model2.add(Input((48,8)))\n",
    "model2.add(LSTM(10, activation=\"relu\"))\n",
    "model2.add(Dense(1))\n",
    "\n",
    "model2.compile(loss=\"mse\", optimizer=optimizer)\n",
    "\n",
    "model2.summary()\n",
    "\n"
   ]
  },
  {
   "cell_type": "code",
   "execution_count": 25,
   "metadata": {},
   "outputs": [
    {
     "name": "stdout",
     "output_type": "stream",
     "text": [
      "Epoch 1/300\n",
      "521/521 [==============================] - 3s 5ms/step - loss: 0.0924 - val_loss: 0.1052\n",
      "Epoch 2/300\n",
      "521/521 [==============================] - 3s 5ms/step - loss: 0.0550 - val_loss: 0.0633\n",
      "Epoch 3/300\n",
      "521/521 [==============================] - 3s 5ms/step - loss: 0.0505 - val_loss: 0.0598\n",
      "Epoch 4/300\n",
      "521/521 [==============================] - 3s 5ms/step - loss: 0.0479 - val_loss: 0.0555\n",
      "Epoch 5/300\n",
      "521/521 [==============================] - 3s 5ms/step - loss: 0.0444 - val_loss: 0.0501\n",
      "Epoch 6/300\n",
      "521/521 [==============================] - 3s 5ms/step - loss: 0.0407 - val_loss: 0.0461\n",
      "Epoch 7/300\n",
      "521/521 [==============================] - 3s 5ms/step - loss: 0.0474 - val_loss: 0.0435\n",
      "Epoch 8/300\n",
      "521/521 [==============================] - 3s 5ms/step - loss: 0.0367 - val_loss: 0.0428\n",
      "Epoch 9/300\n",
      "521/521 [==============================] - 3s 5ms/step - loss: 0.0363 - val_loss: 0.0426\n",
      "Epoch 10/300\n",
      "521/521 [==============================] - 3s 5ms/step - loss: 0.0359 - val_loss: 0.0424\n",
      "Epoch 11/300\n",
      "521/521 [==============================] - 3s 5ms/step - loss: 0.0355 - val_loss: 0.0421\n",
      "Epoch 12/300\n",
      "521/521 [==============================] - 3s 5ms/step - loss: 0.0351 - val_loss: 0.0419\n",
      "Epoch 13/300\n",
      "521/521 [==============================] - 3s 5ms/step - loss: 0.0346 - val_loss: 0.0416\n",
      "Epoch 14/300\n",
      "521/521 [==============================] - 3s 5ms/step - loss: 0.0342 - val_loss: 0.0413\n",
      "Epoch 15/300\n",
      "521/521 [==============================] - 3s 5ms/step - loss: 0.0337 - val_loss: 0.0409\n",
      "Epoch 16/300\n",
      "521/521 [==============================] - 3s 5ms/step - loss: 0.0332 - val_loss: 0.0406\n",
      "Epoch 17/300\n",
      "521/521 [==============================] - 3s 5ms/step - loss: 0.0327 - val_loss: 0.0401\n",
      "Epoch 18/300\n",
      "521/521 [==============================] - 3s 5ms/step - loss: 0.0322 - val_loss: 0.0395\n",
      "Epoch 19/300\n",
      "521/521 [==============================] - 3s 5ms/step - loss: 0.0317 - val_loss: 0.0388\n",
      "Epoch 20/300\n",
      "521/521 [==============================] - 3s 6ms/step - loss: 0.0311 - val_loss: 0.0380\n",
      "Epoch 21/300\n",
      "521/521 [==============================] - 3s 6ms/step - loss: 0.0306 - val_loss: 0.0371\n",
      "Epoch 22/300\n",
      "521/521 [==============================] - 3s 5ms/step - loss: 0.0300 - val_loss: 0.0360\n",
      "Epoch 23/300\n",
      "521/521 [==============================] - 3s 5ms/step - loss: 0.0294 - val_loss: 0.0350\n",
      "Epoch 24/300\n",
      "521/521 [==============================] - 3s 5ms/step - loss: 0.0288 - val_loss: 0.0335\n",
      "Epoch 25/300\n",
      "521/521 [==============================] - 3s 6ms/step - loss: 0.0281 - val_loss: 0.0321\n",
      "Epoch 26/300\n",
      "521/521 [==============================] - 3s 5ms/step - loss: 0.0273 - val_loss: 0.0308\n",
      "Epoch 27/300\n",
      "521/521 [==============================] - 3s 6ms/step - loss: 0.0265 - val_loss: 0.0296\n",
      "Epoch 28/300\n",
      "521/521 [==============================] - 3s 5ms/step - loss: 0.0256 - val_loss: 0.0281\n",
      "Epoch 29/300\n",
      "521/521 [==============================] - 3s 5ms/step - loss: 0.0246 - val_loss: 0.0268\n",
      "Epoch 30/300\n",
      "521/521 [==============================] - 3s 5ms/step - loss: 0.0236 - val_loss: 0.0255\n",
      "Epoch 31/300\n",
      "521/521 [==============================] - 3s 6ms/step - loss: 0.0224 - val_loss: 0.0243\n",
      "Epoch 32/300\n",
      "521/521 [==============================] - 3s 5ms/step - loss: 0.0211 - val_loss: 0.0220\n",
      "Epoch 33/300\n",
      "521/521 [==============================] - 3s 5ms/step - loss: 0.0197 - val_loss: 0.0208\n",
      "Epoch 34/300\n",
      "521/521 [==============================] - 3s 5ms/step - loss: 0.0184 - val_loss: 0.0198\n",
      "Epoch 35/300\n",
      "521/521 [==============================] - 3s 5ms/step - loss: 0.0172 - val_loss: 0.0189\n",
      "Epoch 36/300\n",
      "521/521 [==============================] - 3s 5ms/step - loss: 0.0161 - val_loss: 0.0185\n",
      "Epoch 37/300\n",
      "521/521 [==============================] - 3s 5ms/step - loss: 0.0154 - val_loss: 0.0182\n",
      "Epoch 38/300\n",
      "521/521 [==============================] - 3s 5ms/step - loss: 0.0150 - val_loss: 0.0177\n",
      "Epoch 39/300\n",
      "521/521 [==============================] - 3s 5ms/step - loss: 0.0146 - val_loss: 0.0177\n",
      "Epoch 40/300\n",
      "521/521 [==============================] - 3s 5ms/step - loss: 0.0143 - val_loss: 0.0172\n",
      "Epoch 41/300\n",
      "521/521 [==============================] - 3s 5ms/step - loss: 0.0140 - val_loss: 0.0174\n",
      "Epoch 42/300\n",
      "521/521 [==============================] - 3s 5ms/step - loss: 0.0138 - val_loss: 0.0169\n",
      "Epoch 43/300\n",
      "521/521 [==============================] - 3s 5ms/step - loss: 0.0136 - val_loss: 0.0168\n",
      "Epoch 44/300\n",
      "521/521 [==============================] - 3s 5ms/step - loss: 0.0134 - val_loss: 0.0168\n",
      "Epoch 45/300\n",
      "521/521 [==============================] - 3s 5ms/step - loss: 0.0132 - val_loss: 0.0167\n",
      "Epoch 46/300\n",
      "521/521 [==============================] - 3s 5ms/step - loss: 0.0130 - val_loss: 0.0164\n",
      "Epoch 47/300\n",
      "521/521 [==============================] - 3s 5ms/step - loss: 0.0129 - val_loss: 0.0163\n",
      "Epoch 48/300\n",
      "521/521 [==============================] - 3s 5ms/step - loss: 0.0127 - val_loss: 0.0160\n",
      "Epoch 49/300\n",
      "521/521 [==============================] - 3s 5ms/step - loss: 0.0126 - val_loss: 0.0159\n",
      "Epoch 50/300\n",
      "521/521 [==============================] - 3s 5ms/step - loss: 0.0125 - val_loss: 0.0157\n",
      "Epoch 51/300\n",
      "521/521 [==============================] - 3s 5ms/step - loss: 0.0123 - val_loss: 0.0157\n",
      "Epoch 52/300\n",
      "521/521 [==============================] - 3s 5ms/step - loss: 0.0122 - val_loss: 0.0155\n",
      "Epoch 53/300\n",
      "521/521 [==============================] - 3s 5ms/step - loss: 0.0121 - val_loss: 0.0154\n",
      "Epoch 54/300\n",
      "521/521 [==============================] - 3s 5ms/step - loss: 0.0120 - val_loss: 0.0153\n",
      "Epoch 55/300\n",
      "521/521 [==============================] - 3s 5ms/step - loss: 0.0119 - val_loss: 0.0151\n",
      "Epoch 56/300\n",
      "521/521 [==============================] - 3s 5ms/step - loss: 0.0118 - val_loss: 0.0153\n",
      "Epoch 57/300\n",
      "521/521 [==============================] - 3s 5ms/step - loss: 0.0117 - val_loss: 0.0151\n",
      "Epoch 58/300\n",
      "521/521 [==============================] - 3s 5ms/step - loss: 0.0116 - val_loss: 0.0147\n",
      "Epoch 59/300\n",
      "521/521 [==============================] - 3s 5ms/step - loss: 0.0115 - val_loss: 0.0147\n",
      "Epoch 60/300\n",
      "521/521 [==============================] - 3s 5ms/step - loss: 0.0114 - val_loss: 0.0146\n",
      "Epoch 61/300\n",
      "521/521 [==============================] - 3s 5ms/step - loss: 0.0113 - val_loss: 0.0150\n",
      "Epoch 62/300\n",
      "521/521 [==============================] - 3s 5ms/step - loss: 0.0112 - val_loss: 0.0142\n",
      "Epoch 63/300\n",
      "521/521 [==============================] - 3s 5ms/step - loss: 0.0111 - val_loss: 0.0142\n",
      "Epoch 64/300\n",
      "521/521 [==============================] - 3s 5ms/step - loss: 0.0110 - val_loss: 0.0141\n",
      "Epoch 65/300\n",
      "521/521 [==============================] - 3s 5ms/step - loss: 0.0109 - val_loss: 0.0141\n",
      "Epoch 66/300\n",
      "521/521 [==============================] - 3s 5ms/step - loss: 0.0108 - val_loss: 0.0139\n",
      "Epoch 67/300\n",
      "521/521 [==============================] - 3s 5ms/step - loss: 0.0107 - val_loss: 0.0139\n",
      "Epoch 68/300\n",
      "521/521 [==============================] - 3s 6ms/step - loss: 0.0106 - val_loss: 0.0137\n",
      "Epoch 69/300\n",
      "521/521 [==============================] - 3s 5ms/step - loss: 0.0105 - val_loss: 0.0137\n",
      "Epoch 70/300\n",
      "521/521 [==============================] - 3s 5ms/step - loss: 0.0105 - val_loss: 0.0137\n",
      "Epoch 71/300\n",
      "521/521 [==============================] - 3s 5ms/step - loss: 0.0104 - val_loss: 0.0133\n",
      "Epoch 72/300\n",
      "521/521 [==============================] - 3s 5ms/step - loss: 0.0103 - val_loss: 0.0133\n",
      "Epoch 73/300\n",
      "521/521 [==============================] - 3s 5ms/step - loss: 0.0102 - val_loss: 0.0130\n",
      "Epoch 74/300\n",
      "521/521 [==============================] - 3s 5ms/step - loss: 0.0101 - val_loss: 0.0131\n",
      "Epoch 75/300\n",
      "521/521 [==============================] - 3s 5ms/step - loss: 0.0100 - val_loss: 0.0129\n",
      "Epoch 76/300\n",
      "521/521 [==============================] - 3s 5ms/step - loss: 0.0100 - val_loss: 0.0128\n",
      "Epoch 77/300\n",
      "521/521 [==============================] - 3s 5ms/step - loss: 0.0099 - val_loss: 0.0127\n",
      "Epoch 78/300\n",
      "521/521 [==============================] - 3s 5ms/step - loss: 0.0098 - val_loss: 0.0128\n",
      "Epoch 79/300\n",
      "521/521 [==============================] - 3s 5ms/step - loss: 0.0098 - val_loss: 0.0125\n",
      "Epoch 80/300\n",
      "521/521 [==============================] - 3s 5ms/step - loss: 0.0097 - val_loss: 0.0126\n",
      "Epoch 81/300\n",
      "521/521 [==============================] - 3s 5ms/step - loss: 0.0096 - val_loss: 0.0122\n",
      "Epoch 82/300\n",
      "521/521 [==============================] - 3s 5ms/step - loss: 0.0096 - val_loss: 0.0123\n",
      "Epoch 83/300\n",
      "521/521 [==============================] - 3s 5ms/step - loss: 0.0095 - val_loss: 0.0123\n",
      "Epoch 84/300\n",
      "521/521 [==============================] - 3s 5ms/step - loss: 0.0095 - val_loss: 0.0125\n",
      "Epoch 85/300\n",
      "521/521 [==============================] - 3s 5ms/step - loss: 0.0094 - val_loss: 0.0122\n",
      "Epoch 86/300\n",
      "521/521 [==============================] - 3s 5ms/step - loss: 0.0094 - val_loss: 0.0119\n",
      "Epoch 87/300\n",
      "521/521 [==============================] - 3s 5ms/step - loss: 0.0093 - val_loss: 0.0120\n",
      "Epoch 88/300\n",
      "521/521 [==============================] - 3s 5ms/step - loss: 0.0093 - val_loss: 0.0118\n",
      "Epoch 89/300\n",
      "521/521 [==============================] - 3s 5ms/step - loss: 0.0092 - val_loss: 0.0120\n",
      "Epoch 90/300\n",
      "521/521 [==============================] - 3s 5ms/step - loss: 0.0092 - val_loss: 0.0120\n",
      "Epoch 91/300\n",
      "521/521 [==============================] - 3s 5ms/step - loss: 0.0091 - val_loss: 0.0118\n",
      "Epoch 92/300\n",
      "521/521 [==============================] - 3s 5ms/step - loss: 0.0091 - val_loss: 0.0117\n",
      "Epoch 93/300\n",
      "521/521 [==============================] - 3s 5ms/step - loss: 0.0091 - val_loss: 0.0115\n",
      "Epoch 94/300\n",
      "521/521 [==============================] - 3s 5ms/step - loss: 0.0090 - val_loss: 0.0114\n",
      "Epoch 95/300\n",
      "521/521 [==============================] - 3s 5ms/step - loss: 0.0090 - val_loss: 0.0113\n",
      "Epoch 96/300\n",
      "521/521 [==============================] - 3s 5ms/step - loss: 0.0090 - val_loss: 0.0115\n",
      "Epoch 97/300\n",
      "521/521 [==============================] - 3s 5ms/step - loss: 0.0090 - val_loss: 0.0113\n",
      "Epoch 98/300\n",
      "521/521 [==============================] - 3s 5ms/step - loss: 0.0089 - val_loss: 0.0114\n",
      "Epoch 99/300\n",
      "521/521 [==============================] - 3s 5ms/step - loss: 0.0089 - val_loss: 0.0112\n",
      "Epoch 100/300\n",
      "521/521 [==============================] - 3s 5ms/step - loss: 0.0089 - val_loss: 0.0113\n",
      "Epoch 101/300\n",
      "521/521 [==============================] - 3s 5ms/step - loss: 0.0088 - val_loss: 0.0111\n",
      "Epoch 102/300\n",
      "521/521 [==============================] - 3s 5ms/step - loss: 0.0088 - val_loss: 0.0111\n",
      "Epoch 103/300\n",
      "521/521 [==============================] - 3s 5ms/step - loss: 0.0087 - val_loss: 0.0112\n",
      "Epoch 104/300\n",
      "521/521 [==============================] - 3s 5ms/step - loss: 0.0087 - val_loss: 0.0110\n",
      "Epoch 105/300\n",
      "521/521 [==============================] - 3s 5ms/step - loss: 0.0087 - val_loss: 0.0112\n",
      "Epoch 106/300\n",
      "521/521 [==============================] - 3s 5ms/step - loss: 0.0087 - val_loss: 0.0108\n",
      "Epoch 107/300\n",
      "521/521 [==============================] - 3s 5ms/step - loss: 0.0086 - val_loss: 0.0111\n",
      "Epoch 108/300\n",
      "521/521 [==============================] - 3s 5ms/step - loss: 0.0087 - val_loss: 0.0108\n",
      "Epoch 109/300\n",
      "521/521 [==============================] - 3s 5ms/step - loss: 0.0086 - val_loss: 0.0109\n",
      "Epoch 110/300\n",
      "521/521 [==============================] - 3s 5ms/step - loss: 0.0086 - val_loss: 0.0113\n",
      "Epoch 111/300\n",
      "521/521 [==============================] - 3s 5ms/step - loss: 0.0086 - val_loss: 0.0107\n",
      "Epoch 112/300\n",
      "521/521 [==============================] - 3s 5ms/step - loss: 0.0085 - val_loss: 0.0106\n",
      "Epoch 113/300\n",
      "521/521 [==============================] - 3s 5ms/step - loss: 0.0085 - val_loss: 0.0105\n",
      "Epoch 114/300\n",
      "521/521 [==============================] - 3s 5ms/step - loss: 0.0085 - val_loss: 0.0107\n",
      "Epoch 115/300\n",
      "521/521 [==============================] - 3s 5ms/step - loss: 0.0085 - val_loss: 0.0106\n",
      "Epoch 116/300\n",
      "521/521 [==============================] - 3s 5ms/step - loss: 0.0085 - val_loss: 0.0106\n",
      "Epoch 117/300\n",
      "521/521 [==============================] - 3s 5ms/step - loss: 0.0084 - val_loss: 0.0105\n",
      "Epoch 118/300\n",
      "521/521 [==============================] - 3s 5ms/step - loss: 0.0084 - val_loss: 0.0105\n",
      "Epoch 119/300\n",
      "521/521 [==============================] - 3s 5ms/step - loss: 0.0084 - val_loss: 0.0107\n",
      "Epoch 120/300\n",
      "521/521 [==============================] - 3s 5ms/step - loss: 0.0084 - val_loss: 0.0103\n",
      "Epoch 121/300\n",
      "521/521 [==============================] - 3s 5ms/step - loss: 0.0083 - val_loss: 0.0104\n",
      "Epoch 122/300\n",
      "521/521 [==============================] - 3s 5ms/step - loss: 0.0083 - val_loss: 0.0104\n",
      "Epoch 123/300\n",
      "521/521 [==============================] - 3s 6ms/step - loss: 0.0083 - val_loss: 0.0104\n",
      "Epoch 124/300\n",
      "521/521 [==============================] - 3s 5ms/step - loss: 0.0083 - val_loss: 0.0103\n",
      "Epoch 125/300\n",
      "521/521 [==============================] - 3s 5ms/step - loss: 0.0083 - val_loss: 0.0101\n",
      "Epoch 126/300\n",
      "521/521 [==============================] - 3s 5ms/step - loss: 0.0082 - val_loss: 0.0100\n",
      "Epoch 127/300\n",
      "521/521 [==============================] - 3s 5ms/step - loss: 0.0082 - val_loss: 0.0105\n",
      "Epoch 128/300\n",
      "521/521 [==============================] - 3s 5ms/step - loss: 0.0083 - val_loss: 0.0100\n",
      "Epoch 129/300\n",
      "521/521 [==============================] - 3s 5ms/step - loss: 0.0082 - val_loss: 0.0100\n",
      "Epoch 130/300\n",
      "521/521 [==============================] - 3s 5ms/step - loss: 0.0082 - val_loss: 0.0101\n",
      "Epoch 131/300\n",
      "521/521 [==============================] - 3s 5ms/step - loss: 0.0082 - val_loss: 0.0101\n",
      "Epoch 132/300\n",
      "521/521 [==============================] - 3s 5ms/step - loss: 0.0082 - val_loss: 0.0101\n",
      "Epoch 133/300\n",
      "521/521 [==============================] - 3s 5ms/step - loss: 0.0081 - val_loss: 0.0099\n",
      "Epoch 134/300\n",
      "521/521 [==============================] - 3s 5ms/step - loss: 0.0081 - val_loss: 0.0102\n",
      "Epoch 135/300\n",
      "521/521 [==============================] - 3s 5ms/step - loss: 0.0081 - val_loss: 0.0099\n",
      "Epoch 136/300\n",
      "521/521 [==============================] - 3s 5ms/step - loss: 0.0081 - val_loss: 0.0104\n",
      "Epoch 137/300\n",
      "521/521 [==============================] - 3s 5ms/step - loss: 0.0081 - val_loss: 0.0102\n",
      "Epoch 138/300\n",
      "521/521 [==============================] - 3s 5ms/step - loss: 0.0081 - val_loss: 0.0099\n",
      "Epoch 139/300\n",
      "521/521 [==============================] - 3s 5ms/step - loss: 0.0081 - val_loss: 0.0097\n",
      "Epoch 140/300\n",
      "521/521 [==============================] - 3s 5ms/step - loss: 0.0080 - val_loss: 0.0102\n",
      "Epoch 141/300\n",
      "521/521 [==============================] - 3s 5ms/step - loss: 0.0080 - val_loss: 0.0098\n",
      "Epoch 142/300\n",
      "521/521 [==============================] - 3s 5ms/step - loss: 0.0080 - val_loss: 0.0097\n",
      "Epoch 143/300\n",
      "521/521 [==============================] - 3s 5ms/step - loss: 0.0080 - val_loss: 0.0100\n",
      "Epoch 144/300\n",
      "521/521 [==============================] - 3s 5ms/step - loss: 0.0080 - val_loss: 0.0097\n",
      "Epoch 144: early stopping\n"
     ]
    },
    {
     "data": {
      "text/plain": [
       "<Axes: >"
      ]
     },
     "execution_count": 25,
     "metadata": {},
     "output_type": "execute_result"
    },
    {
     "data": {
      "image/png": "[encoded data removed]",
      "text/plain": [
       "<Figure size 640x480 with 1 Axes>"
      ]
     },
     "metadata": {},
     "output_type": "display_data"
    }
   ],
   "source": [
    "trained2 = model2.fit(trainX2, trainy2, validation_split=0.2, batch_size=64, epochs=300, callbacks = [early_stopping])\n",
    "pd.DataFrame.from_dict(trained2.history).plot()"
   ]
  },
  {
   "cell_type": "code",
   "execution_count": 26,
   "metadata": {},
   "outputs": [
    {
     "name": "stdout",
     "output_type": "stream",
     "text": [
      "558/558 [==============================] - 1s 1ms/step - loss: 0.0091\n",
      "Test loss: 0.009067568928003311\n"
     ]
    }
   ],
   "source": [
    "loss2 = model2.evaluate(testX2, testy2)\n",
    "print(f\"Test loss: {loss2}\")"
   ]
  },
  {
   "cell_type": "code",
   "execution_count": 27,
   "metadata": {},
   "outputs": [
    {
     "name": "stdout",
     "output_type": "stream",
     "text": [
      "558/558 [==============================] - 1s 1ms/step\n"
     ]
    },
    {
     "data": {
      "text/plain": [
       "array([[0.04593246],\n",
       "       [0.04074805],\n",
       "       [0.03708269],\n",
       "       ...,\n",
       "       [0.01332316],\n",
       "       [0.01908639],\n",
       "       [0.02662056]], dtype=float32)"
      ]
     },
     "execution_count": 27,
     "metadata": {},
     "output_type": "execute_result"
    }
   ],
   "source": [
    "result2 = model2.predict(testX2)\n",
    "result2"
   ]
  },
  {
   "cell_type": "code",
   "execution_count": 28,
   "metadata": {},
   "outputs": [
    {
     "data": {
      "text/plain": [
       "array([[0.04593246],\n",
       "       [0.04074805],\n",
       "       [0.03708269],\n",
       "       ...,\n",
       "       [0.01332316],\n",
       "       [0.01908639],\n",
       "       [0.02662056]], dtype=float32)"
      ]
     },
     "execution_count": 28,
     "metadata": {},
     "output_type": "execute_result"
    }
   ],
   "source": [
    "result2 = np.maximum(0, result2)\n",
    "result2"
   ]
  },
  {
   "cell_type": "code",
   "execution_count": 29,
   "metadata": {},
   "outputs": [
    {
     "data": {
      "image/png": "[encoded data removed]",
      "text/plain": [
       "<Figure size 640x480 with 1 Axes>"
      ]
     },
     "metadata": {},
     "output_type": "display_data"
    }
   ],
   "source": [
    "plt.title(\"Predicted with All Data batch: 64 (sequence)\")\n",
    "plt.plot(testy2, c=\"g\", label=\"raw\")\n",
    "plt.plot(result2, c=\"b\", alpha=.4, label=\"predicted\")\n",
    "plt.legend(loc=\"best\")\n",
    "plt.show()"
   ]
  },
  {
   "cell_type": "code",
   "execution_count": 30,
   "metadata": {},
   "outputs": [
    {
     "name": "stdout",
     "output_type": "stream",
     "text": [
      "MSE: 0.008569436041957371, RMSE: 0.09257124846277796\n"
     ]
    }
   ],
   "source": [
    "error2 = mean_squared_error(testy2, result2)\n",
    "print(\"MSE: {}, RMSE: {}\".format(error2, np.sqrt(error2)))"
   ]
  },
  {
   "cell_type": "code",
   "execution_count": 31,
   "metadata": {},
   "outputs": [
    {
     "data": {
      "image/png": "[encoded data removed]",
      "text/plain": [
       "<Figure size 640x480 with 1 Axes>"
      ]
     },
     "metadata": {},
     "output_type": "display_data"
    }
   ],
   "source": [
    "import matplotlib.pyplot as plt\n",
    "\n",
    "plt.title(\"Predicted Values Comparison\")\n",
    "plt.plot( predicted1, c=\"b\", label=\"with_corr\")\n",
    "plt.plot(result2,c=\"g\", label=\"all_data\", alpha=.4)\n",
    "plt.xticks()\n",
    "plt.legend(loc=\"best\")\n",
    "plt.show()"
   ]
  },
  {
   "cell_type": "code",
   "execution_count": null,
   "metadata": {},
   "outputs": [],
   "source": []
  }
 ],
 "metadata": {
  "kernelspec": {
   "display_name": "Python 3",
   "language": "python",
   "name": "python3"
  },
  "language_info": {
   "codemirror_mode": {
    "name": "ipython",
    "version": 3
   },
   "file_extension": ".py",
   "mimetype": "text/x-python",
   "name": "python",
   "nbconvert_exporter": "python",
   "pygments_lexer": "ipython3",
   "version": "3.11.6"
  }
 },
 "nbformat": 4,
 "nbformat_minor": 2
}
