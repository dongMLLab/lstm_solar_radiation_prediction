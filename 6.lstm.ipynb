{
 "cells": [
  {
   "cell_type": "code",
   "execution_count": 29,
   "metadata": {},
   "outputs": [],
   "source": [
    "import tensorflow as tf\n",
    "from keras.models import Sequential\n",
    "from keras.layers import LSTM, Dense, Dropout, Input\n",
    "from keras.optimizers.legacy import Adam\n",
    "from sklearn.preprocessing import MinMaxScaler\n",
    "from keras.callbacks import EarlyStopping\n",
    "import pandas as pd\n",
    "import numpy as np"
   ]
  },
  {
   "cell_type": "code",
   "execution_count": 39,
   "metadata": {},
   "outputs": [
    {
     "data": {
      "text/html": [
       "<div>\n",
       "<style scoped>\n",
       "    .dataframe tbody tr th:only-of-type {\n",
       "        vertical-align: middle;\n",
       "    }\n",
       "\n",
       "    .dataframe tbody tr th {\n",
       "        vertical-align: top;\n",
       "    }\n",
       "\n",
       "    .dataframe thead th {\n",
       "        text-align: right;\n",
       "    }\n",
       "</style>\n",
       "<table border=\"1\" class=\"dataframe\">\n",
       "  <thead>\n",
       "    <tr style=\"text-align: right;\">\n",
       "      <th></th>\n",
       "      <th>temperature</th>\n",
       "      <th>rain</th>\n",
       "      <th>wind_speed</th>\n",
       "      <th>wind_direction</th>\n",
       "      <th>humidity</th>\n",
       "      <th>pressure</th>\n",
       "      <th>total_cloud</th>\n",
       "      <th>visibility</th>\n",
       "      <th>solar_radiation</th>\n",
       "    </tr>\n",
       "  </thead>\n",
       "  <tbody>\n",
       "    <tr>\n",
       "      <th>0</th>\n",
       "      <td>4.2</td>\n",
       "      <td>0.0</td>\n",
       "      <td>2.1</td>\n",
       "      <td>320.0</td>\n",
       "      <td>68.0</td>\n",
       "      <td>1021.5</td>\n",
       "      <td>0.0</td>\n",
       "      <td>20000.0</td>\n",
       "      <td>0.0</td>\n",
       "    </tr>\n",
       "    <tr>\n",
       "      <th>1</th>\n",
       "      <td>4.1</td>\n",
       "      <td>0.0</td>\n",
       "      <td>1.9</td>\n",
       "      <td>320.0</td>\n",
       "      <td>67.0</td>\n",
       "      <td>1021.4</td>\n",
       "      <td>0.0</td>\n",
       "      <td>20000.0</td>\n",
       "      <td>0.0</td>\n",
       "    </tr>\n",
       "    <tr>\n",
       "      <th>2</th>\n",
       "      <td>3.9</td>\n",
       "      <td>0.0</td>\n",
       "      <td>1.0</td>\n",
       "      <td>250.0</td>\n",
       "      <td>68.0</td>\n",
       "      <td>1021.7</td>\n",
       "      <td>0.0</td>\n",
       "      <td>20000.0</td>\n",
       "      <td>0.0</td>\n",
       "    </tr>\n",
       "    <tr>\n",
       "      <th>3</th>\n",
       "      <td>3.7</td>\n",
       "      <td>0.0</td>\n",
       "      <td>1.9</td>\n",
       "      <td>320.0</td>\n",
       "      <td>70.0</td>\n",
       "      <td>1021.6</td>\n",
       "      <td>0.0</td>\n",
       "      <td>20000.0</td>\n",
       "      <td>0.0</td>\n",
       "    </tr>\n",
       "    <tr>\n",
       "      <th>4</th>\n",
       "      <td>3.6</td>\n",
       "      <td>0.0</td>\n",
       "      <td>1.1</td>\n",
       "      <td>50.0</td>\n",
       "      <td>72.0</td>\n",
       "      <td>1020.7</td>\n",
       "      <td>0.0</td>\n",
       "      <td>17950.0</td>\n",
       "      <td>0.0</td>\n",
       "    </tr>\n",
       "    <tr>\n",
       "      <th>...</th>\n",
       "      <td>...</td>\n",
       "      <td>...</td>\n",
       "      <td>...</td>\n",
       "      <td>...</td>\n",
       "      <td>...</td>\n",
       "      <td>...</td>\n",
       "      <td>...</td>\n",
       "      <td>...</td>\n",
       "      <td>...</td>\n",
       "    </tr>\n",
       "    <tr>\n",
       "      <th>59562</th>\n",
       "      <td>18.7</td>\n",
       "      <td>0.0</td>\n",
       "      <td>1.8</td>\n",
       "      <td>180.0</td>\n",
       "      <td>72.0</td>\n",
       "      <td>15.5</td>\n",
       "      <td>2.0</td>\n",
       "      <td>4057.0</td>\n",
       "      <td>0.0</td>\n",
       "    </tr>\n",
       "    <tr>\n",
       "      <th>59563</th>\n",
       "      <td>16.4</td>\n",
       "      <td>0.0</td>\n",
       "      <td>0.7</td>\n",
       "      <td>200.0</td>\n",
       "      <td>84.0</td>\n",
       "      <td>15.6</td>\n",
       "      <td>3.0</td>\n",
       "      <td>3245.0</td>\n",
       "      <td>0.0</td>\n",
       "    </tr>\n",
       "    <tr>\n",
       "      <th>59564</th>\n",
       "      <td>14.4</td>\n",
       "      <td>0.0</td>\n",
       "      <td>0.5</td>\n",
       "      <td>70.0</td>\n",
       "      <td>88.0</td>\n",
       "      <td>14.4</td>\n",
       "      <td>6.0</td>\n",
       "      <td>2590.0</td>\n",
       "      <td>0.0</td>\n",
       "    </tr>\n",
       "    <tr>\n",
       "      <th>59565</th>\n",
       "      <td>13.0</td>\n",
       "      <td>0.0</td>\n",
       "      <td>0.1</td>\n",
       "      <td>0.0</td>\n",
       "      <td>92.0</td>\n",
       "      <td>13.7</td>\n",
       "      <td>5.0</td>\n",
       "      <td>1632.0</td>\n",
       "      <td>0.0</td>\n",
       "    </tr>\n",
       "    <tr>\n",
       "      <th>59566</th>\n",
       "      <td>12.1</td>\n",
       "      <td>0.0</td>\n",
       "      <td>0.0</td>\n",
       "      <td>0.0</td>\n",
       "      <td>94.0</td>\n",
       "      <td>13.2</td>\n",
       "      <td>6.0</td>\n",
       "      <td>1913.0</td>\n",
       "      <td>0.0</td>\n",
       "    </tr>\n",
       "  </tbody>\n",
       "</table>\n",
       "<p>59567 rows × 9 columns</p>\n",
       "</div>"
      ],
      "text/plain": [
       "       temperature  rain  wind_speed  wind_direction  humidity  pressure  \\\n",
       "0              4.2   0.0         2.1           320.0      68.0    1021.5   \n",
       "1              4.1   0.0         1.9           320.0      67.0    1021.4   \n",
       "2              3.9   0.0         1.0           250.0      68.0    1021.7   \n",
       "3              3.7   0.0         1.9           320.0      70.0    1021.6   \n",
       "4              3.6   0.0         1.1            50.0      72.0    1020.7   \n",
       "...            ...   ...         ...             ...       ...       ...   \n",
       "59562         18.7   0.0         1.8           180.0      72.0      15.5   \n",
       "59563         16.4   0.0         0.7           200.0      84.0      15.6   \n",
       "59564         14.4   0.0         0.5            70.0      88.0      14.4   \n",
       "59565         13.0   0.0         0.1             0.0      92.0      13.7   \n",
       "59566         12.1   0.0         0.0             0.0      94.0      13.2   \n",
       "\n",
       "       total_cloud  visibility  solar_radiation  \n",
       "0              0.0     20000.0              0.0  \n",
       "1              0.0     20000.0              0.0  \n",
       "2              0.0     20000.0              0.0  \n",
       "3              0.0     20000.0              0.0  \n",
       "4              0.0     17950.0              0.0  \n",
       "...            ...         ...              ...  \n",
       "59562          2.0      4057.0              0.0  \n",
       "59563          3.0      3245.0              0.0  \n",
       "59564          6.0      2590.0              0.0  \n",
       "59565          5.0      1632.0              0.0  \n",
       "59566          6.0      1913.0              0.0  \n",
       "\n",
       "[59567 rows x 9 columns]"
      ]
     },
     "execution_count": 39,
     "metadata": {},
     "output_type": "execute_result"
    }
   ],
   "source": [
    "data = pd.read_csv(\"combined.csv\")\n",
    "data = data.drop(\"date.1\", axis=1)\n",
    "without_index = data.drop(\"date\", axis=1)\n",
    "without_index"
   ]
  },
  {
   "cell_type": "code",
   "execution_count": 31,
   "metadata": {},
   "outputs": [],
   "source": [
    "# data[\"date\"] = pd.to_datetime(data[\"date\"])\n",
    "# data = data.set_index(\"date\")\n",
    "# data"
   ]
  },
  {
   "cell_type": "code",
   "execution_count": 32,
   "metadata": {},
   "outputs": [],
   "source": [
    "scaler = MinMaxScaler(feature_range=(0, 1))\n",
    "\n",
    "x1 = without_index[[\"total_cloud\", \"rain\", \"visibility\", \"humidity\"]]\n",
    "x2 = without_index[[\"total_cloud\", \"rain\", \"visibility\", \"humidity\", \"wind_speed\", \"wind_direction\", \"pressure\", \"temperature\"]]\n",
    "y = without_index[\"solar_radiation\"]\n",
    "\n",
    "datax1 = scaler.fit_transform(x1)\n",
    "datax2 = scaler.fit_transform(x2)\n",
    "datay = scaler.fit_transform(y.to_numpy().reshape(-1, 1))"
   ]
  },
  {
   "cell_type": "code",
   "execution_count": 33,
   "metadata": {},
   "outputs": [
    {
     "data": {
      "text/plain": [
       "(59567, 1)"
      ]
     },
     "execution_count": 33,
     "metadata": {},
     "output_type": "execute_result"
    }
   ],
   "source": [
    "# Train\n",
    "time_steps = 48\n",
    "features = 4\n",
    "\n",
    "feature_array = datax1\n",
    "dv_array = datay\n",
    "feature_array.shape\n",
    "dv_array.shape"
   ]
  },
  {
   "cell_type": "code",
   "execution_count": 34,
   "metadata": {},
   "outputs": [
    {
     "name": "stderr",
     "output_type": "stream",
     "text": [
      "/var/folders/td/8pk_dg054tl5dgjkt99r7wf80000gn/T/ipykernel_29026/3162236423.py:10: DeprecationWarning: Conversion of an array with ndim > 0 to a scalar is deprecated, and will error in future. Ensure you extract a single element from your array before performing this operation. (Deprecated NumPy 1.25.)\n",
      "  y1[i] = dv_array[i + time_steps]\n"
     ]
    }
   ],
   "source": [
    "\n",
    "# array = data[\"solar_radiation\"].to_numpy()\n",
    "\n",
    "num_sequence = len(feature_array) - time_steps\n",
    "\n",
    "X1 = np.zeros((num_sequence, time_steps, features))\n",
    "y1 = np.zeros(num_sequence)\n",
    "\n",
    "for i in range(num_sequence):\n",
    "    X1[i] = feature_array[i: i+time_steps]\n",
    "    y1[i] = dv_array[i + time_steps]\n"
   ]
  },
  {
   "cell_type": "code",
   "execution_count": 61,
   "metadata": {},
   "outputs": [
    {
     "data": {
      "text/plain": [
       "41663    2021-10-03 00:00:00\n",
       "41664    2021-10-03 01:00:00\n",
       "41665    2021-10-03 02:00:00\n",
       "41666    2021-10-03 03:00:00\n",
       "41667    2021-10-03 04:00:00\n",
       "                ...         \n",
       "59514    2023-10-16 19:00:00\n",
       "59515    2023-10-16 20:00:00\n",
       "59516    2023-10-16 21:00:00\n",
       "59517    2023-10-16 22:00:00\n",
       "59518    2023-10-16 23:00:00\n",
       "Name: date, Length: 17856, dtype: object"
      ]
     },
     "execution_count": 61,
     "metadata": {},
     "output_type": "execute_result"
    }
   ],
   "source": [
    "train_size =round(len(X1) * 0.7)\n",
    "\n",
    "trainX = X1[:train_size]\n",
    "trainy = y1[:train_size]\n",
    "\n",
    "testX = X1[train_size:]\n",
    "testy = y1[train_size:]\n",
    "\n",
    "date_range_values = data[train_size:len(data)-48][\"date\"]\n",
    "date_range_values\n"
   ]
  },
  {
   "cell_type": "code",
   "execution_count": 66,
   "metadata": {},
   "outputs": [
    {
     "data": {
      "text/plain": [
       "date\n",
       "2021-10-03 00:00:00    0.0\n",
       "2021-10-03 01:00:00    0.0\n",
       "2021-10-03 02:00:00    0.0\n",
       "2021-10-03 03:00:00    0.0\n",
       "2021-10-03 04:00:00    0.0\n",
       "                      ... \n",
       "2023-10-16 19:00:00    0.0\n",
       "2023-10-16 20:00:00    0.0\n",
       "2023-10-16 21:00:00    0.0\n",
       "2023-10-16 22:00:00    0.0\n",
       "2023-10-16 23:00:00    0.0\n",
       "Name: solar_radiation, Length: 17856, dtype: float64"
      ]
     },
     "execution_count": 66,
     "metadata": {},
     "output_type": "execute_result"
    }
   ],
   "source": [
    "yy = data[train_size:num_sequence][\"solar_radiation\"]\n",
    "yy.index = date_range_values\n",
    "yy\n"
   ]
  },
  {
   "cell_type": "code",
   "execution_count": 10,
   "metadata": {},
   "outputs": [
    {
     "name": "stdout",
     "output_type": "stream",
     "text": [
      "Model: \"sequential\"\n",
      "_________________________________________________________________\n",
      " Layer (type)                Output Shape              Param #   \n",
      "=================================================================\n",
      " lstm (LSTM)                 (None, 10)                600       \n",
      "                                                                 \n",
      " dense (Dense)               (None, 1)                 11        \n",
      "                                                                 \n",
      "=================================================================\n",
      "Total params: 611 (2.39 KB)\n",
      "Trainable params: 611 (2.39 KB)\n",
      "Non-trainable params: 0 (0.00 Byte)\n",
      "_________________________________________________________________\n"
     ]
    }
   ],
   "source": [
    "optimizer = Adam(learning_rate=0.0001)\n",
    "\n",
    "model1 = Sequential()\n",
    "\n",
    "model1.add(Input((48,4)))\n",
    "model1.add(LSTM(10, activation=\"relu\"))\n",
    "model1.add(Dense(1))\n",
    "\n",
    "model1.compile(loss=\"mse\", optimizer=optimizer)\n",
    "\n",
    "model1.summary()"
   ]
  },
  {
   "cell_type": "code",
   "execution_count": 11,
   "metadata": {},
   "outputs": [
    {
     "name": "stdout",
     "output_type": "stream",
     "text": [
      "Epoch 1/3000\n",
      "521/521 [==============================] - 4s 6ms/step - loss: 0.0612 - val_loss: 0.0650\n",
      "Epoch 2/3000\n",
      "521/521 [==============================] - 3s 6ms/step - loss: 0.0525 - val_loss: 0.0601\n",
      "Epoch 3/3000\n",
      "521/521 [==============================] - 3s 5ms/step - loss: 0.0506 - val_loss: 0.0586\n",
      "Epoch 4/3000\n",
      "521/521 [==============================] - 3s 5ms/step - loss: 0.0491 - val_loss: 0.0572\n",
      "Epoch 5/3000\n",
      "521/521 [==============================] - 3s 5ms/step - loss: 0.0474 - val_loss: 0.0553\n",
      "Epoch 6/3000\n",
      "521/521 [==============================] - 3s 5ms/step - loss: 0.0450 - val_loss: 0.0531\n",
      "Epoch 7/3000\n",
      "521/521 [==============================] - 3s 6ms/step - loss: 0.0418 - val_loss: 0.0501\n",
      "Epoch 8/3000\n",
      "521/521 [==============================] - 3s 7ms/step - loss: 0.0386 - val_loss: 0.0462\n",
      "Epoch 9/3000\n",
      "521/521 [==============================] - 3s 6ms/step - loss: 0.0363 - val_loss: 0.0425\n",
      "Epoch 10/3000\n",
      "521/521 [==============================] - 3s 5ms/step - loss: 0.0347 - val_loss: 0.0388\n",
      "Epoch 11/3000\n",
      "521/521 [==============================] - 3s 5ms/step - loss: 0.0332 - val_loss: 0.0352\n",
      "Epoch 12/3000\n",
      "521/521 [==============================] - 3s 5ms/step - loss: 0.0319 - val_loss: 0.0322\n",
      "Epoch 13/3000\n",
      "521/521 [==============================] - 3s 6ms/step - loss: 0.0308 - val_loss: 0.0298\n",
      "Epoch 14/3000\n",
      "521/521 [==============================] - 3s 5ms/step - loss: 0.0300 - val_loss: 0.0283\n",
      "Epoch 15/3000\n",
      "521/521 [==============================] - 4s 8ms/step - loss: 0.0293 - val_loss: 0.0270\n",
      "Epoch 16/3000\n",
      "521/521 [==============================] - 4s 8ms/step - loss: 0.0289 - val_loss: 0.0262\n",
      "Epoch 17/3000\n",
      "521/521 [==============================] - 3s 6ms/step - loss: 0.0285 - val_loss: 0.0256\n",
      "Epoch 18/3000\n",
      "521/521 [==============================] - 3s 6ms/step - loss: 0.0282 - val_loss: 0.0254\n",
      "Epoch 19/3000\n",
      "521/521 [==============================] - 3s 6ms/step - loss: 0.0279 - val_loss: 0.0249\n",
      "Epoch 20/3000\n",
      "521/521 [==============================] - 3s 6ms/step - loss: 0.0276 - val_loss: 0.0248\n",
      "Epoch 21/3000\n",
      "521/521 [==============================] - 3s 5ms/step - loss: 0.0273 - val_loss: 0.0245\n",
      "Epoch 22/3000\n",
      "521/521 [==============================] - 4s 8ms/step - loss: 0.0270 - val_loss: 0.0239\n",
      "Epoch 23/3000\n",
      "521/521 [==============================] - 3s 7ms/step - loss: 0.0267 - val_loss: 0.0239\n",
      "Epoch 24/3000\n",
      "521/521 [==============================] - 4s 8ms/step - loss: 0.0263 - val_loss: 0.0235\n",
      "Epoch 25/3000\n",
      "521/521 [==============================] - 3s 6ms/step - loss: 0.0259 - val_loss: 0.0232\n",
      "Epoch 26/3000\n",
      "521/521 [==============================] - 3s 6ms/step - loss: 0.0254 - val_loss: 0.0227\n",
      "Epoch 27/3000\n",
      "521/521 [==============================] - 3s 5ms/step - loss: 0.0249 - val_loss: 0.0224\n",
      "Epoch 28/3000\n",
      "521/521 [==============================] - 3s 7ms/step - loss: 0.0243 - val_loss: 0.0215\n",
      "Epoch 29/3000\n",
      "521/521 [==============================] - 4s 7ms/step - loss: 0.0237 - val_loss: 0.0211\n",
      "Epoch 30/3000\n",
      "521/521 [==============================] - 3s 6ms/step - loss: 0.0233 - val_loss: 0.0208\n",
      "Epoch 31/3000\n",
      "521/521 [==============================] - 3s 5ms/step - loss: 0.0229 - val_loss: 0.0203\n",
      "Epoch 32/3000\n",
      "521/521 [==============================] - 3s 5ms/step - loss: 0.0225 - val_loss: 0.0198\n",
      "Epoch 33/3000\n",
      "521/521 [==============================] - 3s 5ms/step - loss: 0.0222 - val_loss: 0.0196\n",
      "Epoch 34/3000\n",
      "521/521 [==============================] - 3s 6ms/step - loss: 0.0219 - val_loss: 0.0197\n",
      "Epoch 35/3000\n",
      "521/521 [==============================] - 3s 6ms/step - loss: 0.0216 - val_loss: 0.0192\n",
      "Epoch 36/3000\n",
      "521/521 [==============================] - 3s 6ms/step - loss: 0.0214 - val_loss: 0.0191\n",
      "Epoch 37/3000\n",
      "521/521 [==============================] - 3s 5ms/step - loss: 0.0212 - val_loss: 0.0189\n",
      "Epoch 38/3000\n",
      "521/521 [==============================] - 3s 5ms/step - loss: 0.0210 - val_loss: 0.0188\n",
      "Epoch 39/3000\n",
      "521/521 [==============================] - 3s 5ms/step - loss: 0.0209 - val_loss: 0.0189\n",
      "Epoch 40/3000\n",
      "521/521 [==============================] - 3s 6ms/step - loss: 0.0208 - val_loss: 0.0187\n",
      "Epoch 41/3000\n",
      "521/521 [==============================] - 3s 6ms/step - loss: 0.0206 - val_loss: 0.0190\n",
      "Epoch 42/3000\n",
      "521/521 [==============================] - 3s 5ms/step - loss: 0.0205 - val_loss: 0.0186\n",
      "Epoch 43/3000\n",
      "521/521 [==============================] - 3s 7ms/step - loss: 0.0205 - val_loss: 0.0186\n",
      "Epoch 44/3000\n",
      "521/521 [==============================] - 3s 6ms/step - loss: 0.0203 - val_loss: 0.0187\n",
      "Epoch 45/3000\n",
      "521/521 [==============================] - 3s 6ms/step - loss: 0.0203 - val_loss: 0.0187\n",
      "Epoch 46/3000\n",
      "521/521 [==============================] - 3s 5ms/step - loss: 0.0202 - val_loss: 0.0184\n",
      "Epoch 47/3000\n",
      "521/521 [==============================] - 3s 5ms/step - loss: 0.0202 - val_loss: 0.0186\n",
      "Epoch 48/3000\n",
      "521/521 [==============================] - 3s 6ms/step - loss: 0.0201 - val_loss: 0.0184\n",
      "Epoch 49/3000\n",
      "521/521 [==============================] - 3s 5ms/step - loss: 0.0200 - val_loss: 0.0183\n",
      "Epoch 50/3000\n",
      "521/521 [==============================] - 3s 5ms/step - loss: 0.0199 - val_loss: 0.0183\n",
      "Epoch 51/3000\n",
      "521/521 [==============================] - 4s 7ms/step - loss: 0.0199 - val_loss: 0.0183\n",
      "Epoch 52/3000\n",
      "521/521 [==============================] - 3s 5ms/step - loss: 0.0198 - val_loss: 0.0182\n",
      "Epoch 53/3000\n",
      "521/521 [==============================] - 3s 5ms/step - loss: 0.0198 - val_loss: 0.0182\n",
      "Epoch 54/3000\n",
      "521/521 [==============================] - 3s 5ms/step - loss: 0.0197 - val_loss: 0.0181\n",
      "Epoch 55/3000\n",
      "521/521 [==============================] - 4s 8ms/step - loss: 0.0197 - val_loss: 0.0183\n",
      "Epoch 56/3000\n",
      "521/521 [==============================] - 3s 5ms/step - loss: 0.0196 - val_loss: 0.0182\n",
      "Epoch 57/3000\n",
      "521/521 [==============================] - 3s 6ms/step - loss: 0.0196 - val_loss: 0.0180\n",
      "Epoch 58/3000\n",
      "521/521 [==============================] - 3s 6ms/step - loss: 0.0195 - val_loss: 0.0180\n",
      "Epoch 59/3000\n",
      "521/521 [==============================] - 3s 5ms/step - loss: 0.0195 - val_loss: 0.0179\n",
      "Epoch 60/3000\n",
      "521/521 [==============================] - 2s 5ms/step - loss: 0.0194 - val_loss: 0.0178\n",
      "Epoch 61/3000\n",
      "521/521 [==============================] - 3s 5ms/step - loss: 0.0194 - val_loss: 0.0177\n",
      "Epoch 62/3000\n",
      "521/521 [==============================] - 3s 6ms/step - loss: 0.0193 - val_loss: 0.0177\n",
      "Epoch 63/3000\n",
      "521/521 [==============================] - 3s 6ms/step - loss: 0.0193 - val_loss: 0.0177\n",
      "Epoch 64/3000\n",
      "521/521 [==============================] - 3s 5ms/step - loss: 0.0192 - val_loss: 0.0176\n",
      "Epoch 65/3000\n",
      "521/521 [==============================] - 4s 8ms/step - loss: 0.0192 - val_loss: 0.0175\n",
      "Epoch 66/3000\n",
      "521/521 [==============================] - 3s 6ms/step - loss: 0.0192 - val_loss: 0.0174\n",
      "Epoch 67/3000\n",
      "521/521 [==============================] - 3s 6ms/step - loss: 0.0191 - val_loss: 0.0174\n",
      "Epoch 68/3000\n",
      "521/521 [==============================] - 3s 5ms/step - loss: 0.0190 - val_loss: 0.0173\n",
      "Epoch 69/3000\n",
      "521/521 [==============================] - 3s 5ms/step - loss: 0.0190 - val_loss: 0.0174\n",
      "Epoch 70/3000\n",
      "521/521 [==============================] - 3s 5ms/step - loss: 0.0189 - val_loss: 0.0172\n",
      "Epoch 71/3000\n",
      "521/521 [==============================] - 3s 5ms/step - loss: 0.0189 - val_loss: 0.0171\n",
      "Epoch 72/3000\n",
      "521/521 [==============================] - 3s 6ms/step - loss: 0.0189 - val_loss: 0.0172\n",
      "Epoch 73/3000\n",
      "521/521 [==============================] - 3s 5ms/step - loss: 0.0188 - val_loss: 0.0172\n",
      "Epoch 74/3000\n",
      "521/521 [==============================] - 3s 5ms/step - loss: 0.0188 - val_loss: 0.0173\n",
      "Epoch 75/3000\n",
      "521/521 [==============================] - 3s 5ms/step - loss: 0.0187 - val_loss: 0.0169\n",
      "Epoch 76/3000\n",
      "521/521 [==============================] - 4s 7ms/step - loss: 0.0187 - val_loss: 0.0172\n",
      "Epoch 77/3000\n",
      "521/521 [==============================] - 3s 6ms/step - loss: 0.0187 - val_loss: 0.0168\n",
      "Epoch 78/3000\n",
      "521/521 [==============================] - 3s 5ms/step - loss: 0.0186 - val_loss: 0.0168\n",
      "Epoch 79/3000\n",
      "521/521 [==============================] - 3s 6ms/step - loss: 0.0186 - val_loss: 0.0169\n",
      "Epoch 80/3000\n",
      "521/521 [==============================] - 3s 6ms/step - loss: 0.0185 - val_loss: 0.0166\n",
      "Epoch 81/3000\n",
      "521/521 [==============================] - 3s 5ms/step - loss: 0.0185 - val_loss: 0.0168\n",
      "Epoch 82/3000\n",
      "521/521 [==============================] - 3s 6ms/step - loss: 0.0185 - val_loss: 0.0169\n",
      "Epoch 83/3000\n",
      "521/521 [==============================] - 3s 5ms/step - loss: 0.0184 - val_loss: 0.0166\n",
      "Epoch 84/3000\n",
      "521/521 [==============================] - 3s 7ms/step - loss: 0.0184 - val_loss: 0.0165\n",
      "Epoch 85/3000\n",
      "521/521 [==============================] - 3s 6ms/step - loss: 0.0184 - val_loss: 0.0164\n",
      "Epoch 86/3000\n",
      "521/521 [==============================] - 4s 7ms/step - loss: 0.0184 - val_loss: 0.0165\n",
      "Epoch 87/3000\n",
      "521/521 [==============================] - 3s 6ms/step - loss: 0.0183 - val_loss: 0.0163\n",
      "Epoch 88/3000\n",
      "521/521 [==============================] - 3s 5ms/step - loss: 0.0183 - val_loss: 0.0164\n",
      "Epoch 89/3000\n",
      "521/521 [==============================] - 3s 6ms/step - loss: 0.0182 - val_loss: 0.0166\n",
      "Epoch 90/3000\n",
      "521/521 [==============================] - 3s 5ms/step - loss: 0.0182 - val_loss: 0.0164\n",
      "Epoch 91/3000\n",
      "521/521 [==============================] - 3s 5ms/step - loss: 0.0182 - val_loss: 0.0164\n",
      "Epoch 92/3000\n",
      "521/521 [==============================] - 3s 5ms/step - loss: 0.0182 - val_loss: 0.0166\n",
      "Epoch 92: early stopping\n"
     ]
    },
    {
     "data": {
      "text/plain": [
       "<Axes: >"
      ]
     },
     "execution_count": 11,
     "metadata": {},
     "output_type": "execute_result"
    },
    {
     "data": {
      "image/png": "[encoded data removed]",
      "text/plain": [
       "<Figure size 640x480 with 1 Axes>"
      ]
     },
     "metadata": {},
     "output_type": "display_data"
    }
   ],
   "source": [
    "early_stopping = EarlyStopping(monitor=\"val_loss\", patience=5, verbose=5, mode=\"auto\")\n",
    "trained = model1.fit(trainX, trainy, validation_split=0.2, batch_size=64, epochs=3000, callbacks = [early_stopping])\n",
    "pd.DataFrame.from_dict(trained.history).plot()"
   ]
  },
  {
   "cell_type": "code",
   "execution_count": 12,
   "metadata": {},
   "outputs": [
    {
     "name": "stdout",
     "output_type": "stream",
     "text": [
      "558/558 [==============================] - 1s 1ms/step - loss: 0.0166\n",
      "Test loss: 0.01656733825802803\n"
     ]
    }
   ],
   "source": [
    "loss = model1.evaluate(testX, testy)\n",
    "print(f\"Test loss: {loss}\")"
   ]
  },
  {
   "cell_type": "code",
   "execution_count": 51,
   "metadata": {},
   "outputs": [
    {
     "name": "stdout",
     "output_type": "stream",
     "text": [
      "558/558 [==============================] - 1s 1ms/step\n"
     ]
    },
    {
     "data": {
      "text/plain": [
       "array([[-0.11924966],\n",
       "       [-0.13378038],\n",
       "       [-0.09549624],\n",
       "       ...,\n",
       "       [-0.13094641],\n",
       "       [-0.19591196],\n",
       "       [-0.22695236]], dtype=float32)"
      ]
     },
     "execution_count": 51,
     "metadata": {},
     "output_type": "execute_result"
    }
   ],
   "source": [
    "predicted1 = model1.predict(testX)\n",
    "predicted1 = scaler.inverse_transform(predicted1)\n",
    "predicted1"
   ]
  },
  {
   "cell_type": "code",
   "execution_count": 53,
   "metadata": {},
   "outputs": [
    {
     "data": {
      "text/plain": [
       "array([[0.],\n",
       "       [0.],\n",
       "       [0.],\n",
       "       ...,\n",
       "       [0.],\n",
       "       [0.],\n",
       "       [0.]], dtype=float32)"
      ]
     },
     "execution_count": 53,
     "metadata": {},
     "output_type": "execute_result"
    }
   ],
   "source": [
    "predicted1 = np.maximum(0, predicted1)\n",
    "predicted1"
   ]
  },
  {
   "cell_type": "code",
   "execution_count": 69,
   "metadata": {},
   "outputs": [
    {
     "data": {
      "text/html": [
       "<div>\n",
       "<style scoped>\n",
       "    .dataframe tbody tr th:only-of-type {\n",
       "        vertical-align: middle;\n",
       "    }\n",
       "\n",
       "    .dataframe tbody tr th {\n",
       "        vertical-align: top;\n",
       "    }\n",
       "\n",
       "    .dataframe thead th {\n",
       "        text-align: right;\n",
       "    }\n",
       "</style>\n",
       "<table border=\"1\" class=\"dataframe\">\n",
       "  <thead>\n",
       "    <tr style=\"text-align: right;\">\n",
       "      <th></th>\n",
       "      <th>0</th>\n",
       "    </tr>\n",
       "    <tr>\n",
       "      <th>date</th>\n",
       "      <th></th>\n",
       "    </tr>\n",
       "  </thead>\n",
       "  <tbody>\n",
       "    <tr>\n",
       "      <th>2021-10-03 00:00:00</th>\n",
       "      <td>0.000000</td>\n",
       "    </tr>\n",
       "    <tr>\n",
       "      <th>2021-10-03 01:00:00</th>\n",
       "      <td>0.000000</td>\n",
       "    </tr>\n",
       "    <tr>\n",
       "      <th>2021-10-03 02:00:00</th>\n",
       "      <td>0.000000</td>\n",
       "    </tr>\n",
       "    <tr>\n",
       "      <th>2021-10-03 03:00:00</th>\n",
       "      <td>0.000000</td>\n",
       "    </tr>\n",
       "    <tr>\n",
       "      <th>2021-10-03 04:00:00</th>\n",
       "      <td>0.000000</td>\n",
       "    </tr>\n",
       "    <tr>\n",
       "      <th>...</th>\n",
       "      <td>...</td>\n",
       "    </tr>\n",
       "    <tr>\n",
       "      <th>2023-10-16 19:00:00</th>\n",
       "      <td>0.186308</td>\n",
       "    </tr>\n",
       "    <tr>\n",
       "      <th>2023-10-16 20:00:00</th>\n",
       "      <td>0.088978</td>\n",
       "    </tr>\n",
       "    <tr>\n",
       "      <th>2023-10-16 21:00:00</th>\n",
       "      <td>0.000000</td>\n",
       "    </tr>\n",
       "    <tr>\n",
       "      <th>2023-10-16 22:00:00</th>\n",
       "      <td>0.000000</td>\n",
       "    </tr>\n",
       "    <tr>\n",
       "      <th>2023-10-16 23:00:00</th>\n",
       "      <td>0.000000</td>\n",
       "    </tr>\n",
       "  </tbody>\n",
       "</table>\n",
       "<p>17856 rows × 1 columns</p>\n",
       "</div>"
      ],
      "text/plain": [
       "                            0\n",
       "date                         \n",
       "2021-10-03 00:00:00  0.000000\n",
       "2021-10-03 01:00:00  0.000000\n",
       "2021-10-03 02:00:00  0.000000\n",
       "2021-10-03 03:00:00  0.000000\n",
       "2021-10-03 04:00:00  0.000000\n",
       "...                       ...\n",
       "2023-10-16 19:00:00  0.186308\n",
       "2023-10-16 20:00:00  0.088978\n",
       "2023-10-16 21:00:00  0.000000\n",
       "2023-10-16 22:00:00  0.000000\n",
       "2023-10-16 23:00:00  0.000000\n",
       "\n",
       "[17856 rows x 1 columns]"
      ]
     },
     "execution_count": 69,
     "metadata": {},
     "output_type": "execute_result"
    }
   ],
   "source": [
    "pred_frame1 = pd.DataFrame(predicted1)\n",
    "pred_frame1.index = date_range_values\n",
    "pred_frame1"
   ]
  },
  {
   "cell_type": "code",
   "execution_count": 70,
   "metadata": {},
   "outputs": [
    {
     "data": {
      "image/png": "[encoded data removed]",
      "text/plain": [
       "<Figure size 640x480 with 1 Axes>"
      ]
     },
     "metadata": {},
     "output_type": "display_data"
    }
   ],
   "source": [
    "import matplotlib.pyplot as plt\n",
    "\n",
    "plt.title(\"Predicted with Correlated Data batch: 64 (sequences)\")\n",
    "plt.plot(pred_frame1, c=\"b\", label=\"predicted\")\n",
    "plt.plot( yy, c=\"g\", alpha=.5, label=\"raw\")\n",
    "plt.legend(loc=\"best\")\n",
    "plt.show()"
   ]
  },
  {
   "cell_type": "code",
   "execution_count": 72,
   "metadata": {},
   "outputs": [],
   "source": [
    "from sklearn.metrics import mean_squared_error"
   ]
  },
  {
   "cell_type": "code",
   "execution_count": 73,
   "metadata": {},
   "outputs": [
    {
     "data": {
      "text/plain": [
       "(17856, 1)"
      ]
     },
     "execution_count": 73,
     "metadata": {},
     "output_type": "execute_result"
    }
   ],
   "source": [
    "predicted1.shape"
   ]
  },
  {
   "cell_type": "code",
   "execution_count": 74,
   "metadata": {},
   "outputs": [
    {
     "name": "stdout",
     "output_type": "stream",
     "text": [
      "MSE: 0.3543526093550245, RMSE: 0.5952752383183971\n"
     ]
    }
   ],
   "source": [
    "error = mean_squared_error(yy, predicted1)\n",
    "\n",
    "print(\"MSE: {}, RMSE: {}\".format(error, np.sqrt(error)))"
   ]
  },
  {
   "cell_type": "code",
   "execution_count": 75,
   "metadata": {},
   "outputs": [],
   "source": [
    "feature_array2 = datax2\n",
    "dv_array2 = datay\n"
   ]
  },
  {
   "cell_type": "code",
   "execution_count": 86,
   "metadata": {},
   "outputs": [
    {
     "name": "stderr",
     "output_type": "stream",
     "text": [
      "/var/folders/td/8pk_dg054tl5dgjkt99r7wf80000gn/T/ipykernel_29026/3088642358.py:11: DeprecationWarning: Conversion of an array with ndim > 0 to a scalar is deprecated, and will error in future. Ensure you extract a single element from your array before performing this operation. (Deprecated NumPy 1.25.)\n",
      "  y2[i] = dv_array2[i + time_steps]\n"
     ]
    }
   ],
   "source": [
    "time_steps = 48\n",
    "features2 = 8\n",
    "\n",
    "num_sequence2 = len(feature_array2) - time_steps\n",
    "\n",
    "X2 = np.zeros((num_sequence2, time_steps, features2))\n",
    "y2 = np.zeros(num_sequence2)\n",
    "\n",
    "for i in range(num_sequence2):\n",
    "    X2[i] = feature_array2[i: i+time_steps]\n",
    "    y2[i] = dv_array2[i + time_steps]"
   ]
  },
  {
   "cell_type": "code",
   "execution_count": 87,
   "metadata": {},
   "outputs": [],
   "source": [
    "train_size =round(len(X2) * 0.7)\n",
    "\n",
    "trainX2 = X2[:train_size]\n",
    "trainy2 = y2[:train_size]\n",
    "\n",
    "testX2 = X2[train_size:]\n",
    "\n",
    "testy2 = y2[train_size:]"
   ]
  },
  {
   "cell_type": "code",
   "execution_count": 88,
   "metadata": {},
   "outputs": [
    {
     "name": "stdout",
     "output_type": "stream",
     "text": [
      "Model: \"sequential_2\"\n",
      "_________________________________________________________________\n",
      " Layer (type)                Output Shape              Param #   \n",
      "=================================================================\n",
      " lstm_2 (LSTM)               (None, 10)                760       \n",
      "                                                                 \n",
      " dense_2 (Dense)             (None, 1)                 11        \n",
      "                                                                 \n",
      "=================================================================\n",
      "Total params: 771 (3.01 KB)\n",
      "Trainable params: 771 (3.01 KB)\n",
      "Non-trainable params: 0 (0.00 Byte)\n",
      "_________________________________________________________________\n"
     ]
    }
   ],
   "source": [
    "optimizer = Adam(learning_rate=0.0001)\n",
    "\n",
    "model2 = Sequential()\n",
    "\n",
    "model2.add(Input((48,8)))\n",
    "model2.add(LSTM(10, activation=\"relu\"))\n",
    "model2.add(Dense(1))\n",
    "\n",
    "model2.compile(loss=\"mse\", optimizer=optimizer)\n",
    "\n",
    "model2.summary()\n",
    "\n"
   ]
  },
  {
   "cell_type": "code",
   "execution_count": 89,
   "metadata": {},
   "outputs": [
    {
     "name": "stdout",
     "output_type": "stream",
     "text": [
      "Epoch 1/3000\n",
      "521/521 [==============================] - 3s 5ms/step - loss: 1.2983 - val_loss: 0.1207\n",
      "Epoch 2/3000\n",
      "521/521 [==============================] - 3s 5ms/step - loss: 0.1972 - val_loss: 0.0877\n",
      "Epoch 3/3000\n",
      "521/521 [==============================] - 3s 5ms/step - loss: 0.1178 - val_loss: 0.0737\n",
      "Epoch 4/3000\n",
      "521/521 [==============================] - 3s 5ms/step - loss: 0.0692 - val_loss: 0.0674\n",
      "Epoch 5/3000\n",
      "521/521 [==============================] - 3s 5ms/step - loss: 0.0593 - val_loss: 0.0615\n",
      "Epoch 6/3000\n",
      "521/521 [==============================] - 3s 5ms/step - loss: 0.0537 - val_loss: 0.0562\n",
      "Epoch 7/3000\n",
      "521/521 [==============================] - 3s 5ms/step - loss: 0.0491 - val_loss: 0.0532\n",
      "Epoch 8/3000\n",
      "521/521 [==============================] - 3s 5ms/step - loss: 0.0465 - val_loss: 0.0512\n",
      "Epoch 9/3000\n",
      "521/521 [==============================] - 3s 5ms/step - loss: 0.0448 - val_loss: 0.0489\n",
      "Epoch 10/3000\n",
      "521/521 [==============================] - 3s 5ms/step - loss: 0.0428 - val_loss: 0.0420\n",
      "Epoch 11/3000\n",
      "521/521 [==============================] - 3s 5ms/step - loss: 0.0400 - val_loss: 0.0353\n",
      "Epoch 12/3000\n",
      "521/521 [==============================] - 3s 5ms/step - loss: 0.0376 - val_loss: 0.0333\n",
      "Epoch 13/3000\n",
      "521/521 [==============================] - 3s 5ms/step - loss: 0.0359 - val_loss: 0.0317\n",
      "Epoch 14/3000\n",
      "521/521 [==============================] - 3s 5ms/step - loss: 0.0344 - val_loss: 0.0302\n",
      "Epoch 15/3000\n",
      "521/521 [==============================] - 3s 5ms/step - loss: 0.0327 - val_loss: 0.0287\n",
      "Epoch 16/3000\n",
      "521/521 [==============================] - 3s 5ms/step - loss: 0.0311 - val_loss: 0.0272\n",
      "Epoch 17/3000\n",
      "521/521 [==============================] - 3s 5ms/step - loss: 0.0294 - val_loss: 0.0262\n",
      "Epoch 18/3000\n",
      "521/521 [==============================] - 3s 5ms/step - loss: 0.0278 - val_loss: 0.0253\n",
      "Epoch 19/3000\n",
      "521/521 [==============================] - 3s 5ms/step - loss: 0.0263 - val_loss: 0.0243\n",
      "Epoch 20/3000\n",
      "521/521 [==============================] - 2s 5ms/step - loss: 0.0251 - val_loss: 0.0237\n",
      "Epoch 21/3000\n",
      "521/521 [==============================] - 3s 5ms/step - loss: 0.0242 - val_loss: 0.0232\n",
      "Epoch 22/3000\n",
      "521/521 [==============================] - 3s 5ms/step - loss: 0.0235 - val_loss: 0.0228\n",
      "Epoch 23/3000\n",
      "521/521 [==============================] - 3s 5ms/step - loss: 0.0229 - val_loss: 0.0225\n",
      "Epoch 24/3000\n",
      "521/521 [==============================] - 3s 5ms/step - loss: 0.0223 - val_loss: 0.0219\n",
      "Epoch 25/3000\n",
      "521/521 [==============================] - 3s 5ms/step - loss: 0.0219 - val_loss: 0.0214\n",
      "Epoch 26/3000\n",
      "521/521 [==============================] - 3s 5ms/step - loss: 0.0214 - val_loss: 0.0211\n",
      "Epoch 27/3000\n",
      "521/521 [==============================] - 3s 5ms/step - loss: 0.0210 - val_loss: 0.0207\n",
      "Epoch 28/3000\n",
      "521/521 [==============================] - 3s 5ms/step - loss: 0.0206 - val_loss: 0.0204\n",
      "Epoch 29/3000\n",
      "521/521 [==============================] - 3s 5ms/step - loss: 0.0202 - val_loss: 0.0203\n",
      "Epoch 30/3000\n",
      "521/521 [==============================] - 3s 5ms/step - loss: 0.0198 - val_loss: 0.0199\n",
      "Epoch 31/3000\n",
      "521/521 [==============================] - 3s 5ms/step - loss: 0.0194 - val_loss: 0.0196\n",
      "Epoch 32/3000\n",
      "521/521 [==============================] - 3s 5ms/step - loss: 0.0191 - val_loss: 0.0193\n",
      "Epoch 33/3000\n",
      "521/521 [==============================] - 3s 5ms/step - loss: 0.0188 - val_loss: 0.0189\n",
      "Epoch 34/3000\n",
      "521/521 [==============================] - 3s 5ms/step - loss: 0.0184 - val_loss: 0.0187\n",
      "Epoch 35/3000\n",
      "521/521 [==============================] - 3s 6ms/step - loss: 0.0181 - val_loss: 0.0185\n",
      "Epoch 36/3000\n",
      "521/521 [==============================] - 3s 5ms/step - loss: 0.0178 - val_loss: 0.0183\n",
      "Epoch 37/3000\n",
      "521/521 [==============================] - 3s 6ms/step - loss: 0.0176 - val_loss: 0.0180\n",
      "Epoch 38/3000\n",
      "521/521 [==============================] - 3s 6ms/step - loss: 0.0173 - val_loss: 0.0179\n",
      "Epoch 39/3000\n",
      "521/521 [==============================] - 3s 5ms/step - loss: 0.0170 - val_loss: 0.0176\n",
      "Epoch 40/3000\n",
      "521/521 [==============================] - 3s 5ms/step - loss: 0.0168 - val_loss: 0.0174\n",
      "Epoch 41/3000\n",
      "521/521 [==============================] - 3s 5ms/step - loss: 0.0165 - val_loss: 0.0171\n",
      "Epoch 42/3000\n",
      "521/521 [==============================] - 3s 5ms/step - loss: 0.0162 - val_loss: 0.0176\n",
      "Epoch 43/3000\n",
      "521/521 [==============================] - 3s 5ms/step - loss: 0.0160 - val_loss: 0.0165\n",
      "Epoch 44/3000\n",
      "521/521 [==============================] - 3s 5ms/step - loss: 0.0157 - val_loss: 0.0162\n",
      "Epoch 45/3000\n",
      "521/521 [==============================] - 3s 5ms/step - loss: 0.0154 - val_loss: 0.0159\n",
      "Epoch 46/3000\n",
      "521/521 [==============================] - 3s 5ms/step - loss: 0.0151 - val_loss: 0.0156\n",
      "Epoch 47/3000\n",
      "521/521 [==============================] - 3s 5ms/step - loss: 0.0148 - val_loss: 0.0154\n",
      "Epoch 48/3000\n",
      "521/521 [==============================] - 3s 5ms/step - loss: 0.0146 - val_loss: 0.0151\n",
      "Epoch 49/3000\n",
      "521/521 [==============================] - 3s 5ms/step - loss: 0.0143 - val_loss: 0.0148\n",
      "Epoch 50/3000\n",
      "521/521 [==============================] - 3s 5ms/step - loss: 0.0140 - val_loss: 0.0147\n",
      "Epoch 51/3000\n",
      "521/521 [==============================] - 3s 5ms/step - loss: 0.0137 - val_loss: 0.0145\n",
      "Epoch 52/3000\n",
      "521/521 [==============================] - 3s 5ms/step - loss: 0.0135 - val_loss: 0.0144\n",
      "Epoch 53/3000\n",
      "521/521 [==============================] - 3s 5ms/step - loss: 0.0133 - val_loss: 0.0144\n",
      "Epoch 54/3000\n",
      "521/521 [==============================] - 3s 5ms/step - loss: 0.0131 - val_loss: 0.0139\n",
      "Epoch 55/3000\n",
      "521/521 [==============================] - 3s 5ms/step - loss: 0.0129 - val_loss: 0.0139\n",
      "Epoch 56/3000\n",
      "521/521 [==============================] - 3s 5ms/step - loss: 0.0127 - val_loss: 0.0138\n",
      "Epoch 57/3000\n",
      "521/521 [==============================] - 3s 5ms/step - loss: 0.0126 - val_loss: 0.0139\n",
      "Epoch 58/3000\n",
      "521/521 [==============================] - 3s 5ms/step - loss: 0.0125 - val_loss: 0.0136\n",
      "Epoch 59/3000\n",
      "521/521 [==============================] - 3s 5ms/step - loss: 0.0123 - val_loss: 0.0135\n",
      "Epoch 60/3000\n",
      "521/521 [==============================] - 3s 5ms/step - loss: 0.0122 - val_loss: 0.0134\n",
      "Epoch 61/3000\n",
      "521/521 [==============================] - 3s 5ms/step - loss: 0.0121 - val_loss: 0.0136\n",
      "Epoch 62/3000\n",
      "521/521 [==============================] - 3s 5ms/step - loss: 0.0120 - val_loss: 0.0135\n",
      "Epoch 63/3000\n",
      "521/521 [==============================] - 3s 5ms/step - loss: 0.0119 - val_loss: 0.0133\n",
      "Epoch 64/3000\n",
      "521/521 [==============================] - 3s 5ms/step - loss: 0.0118 - val_loss: 0.0133\n",
      "Epoch 65/3000\n",
      "521/521 [==============================] - 3s 5ms/step - loss: 0.0117 - val_loss: 0.0131\n",
      "Epoch 66/3000\n",
      "521/521 [==============================] - 3s 5ms/step - loss: 0.0116 - val_loss: 0.0131\n",
      "Epoch 67/3000\n",
      "521/521 [==============================] - 3s 5ms/step - loss: 0.0115 - val_loss: 0.0131\n",
      "Epoch 68/3000\n",
      "521/521 [==============================] - 3s 5ms/step - loss: 0.0114 - val_loss: 0.0132\n",
      "Epoch 69/3000\n",
      "521/521 [==============================] - 3s 5ms/step - loss: 0.0113 - val_loss: 0.0130\n",
      "Epoch 70/3000\n",
      "521/521 [==============================] - 3s 5ms/step - loss: 0.0112 - val_loss: 0.0131\n",
      "Epoch 71/3000\n",
      "521/521 [==============================] - 3s 5ms/step - loss: 0.0111 - val_loss: 0.0129\n",
      "Epoch 72/3000\n",
      "521/521 [==============================] - 3s 5ms/step - loss: 0.0110 - val_loss: 0.0129\n",
      "Epoch 73/3000\n",
      "521/521 [==============================] - 3s 5ms/step - loss: 0.0109 - val_loss: 0.0130\n",
      "Epoch 74/3000\n",
      "521/521 [==============================] - 3s 5ms/step - loss: 0.0108 - val_loss: 0.0131\n",
      "Epoch 75/3000\n",
      "521/521 [==============================] - 3s 5ms/step - loss: 0.0107 - val_loss: 0.0129\n",
      "Epoch 76/3000\n",
      "521/521 [==============================] - 3s 5ms/step - loss: 0.0107 - val_loss: 0.0126\n",
      "Epoch 77/3000\n",
      "521/521 [==============================] - 3s 5ms/step - loss: 0.0106 - val_loss: 0.0127\n",
      "Epoch 78/3000\n",
      "521/521 [==============================] - 3s 5ms/step - loss: 0.0105 - val_loss: 0.0129\n",
      "Epoch 79/3000\n",
      "521/521 [==============================] - 3s 5ms/step - loss: 0.0104 - val_loss: 0.0127\n",
      "Epoch 80/3000\n",
      "521/521 [==============================] - 3s 5ms/step - loss: 0.0104 - val_loss: 0.0130\n",
      "Epoch 81/3000\n",
      "521/521 [==============================] - 3s 5ms/step - loss: 0.0103 - val_loss: 0.0126\n",
      "Epoch 82/3000\n",
      "521/521 [==============================] - 3s 5ms/step - loss: 0.0102 - val_loss: 0.0126\n",
      "Epoch 83/3000\n",
      "521/521 [==============================] - 3s 5ms/step - loss: 0.0102 - val_loss: 0.0128\n",
      "Epoch 84/3000\n",
      "521/521 [==============================] - 3s 5ms/step - loss: 0.0101 - val_loss: 0.0126\n",
      "Epoch 85/3000\n",
      "521/521 [==============================] - 3s 5ms/step - loss: 0.0101 - val_loss: 0.0124\n",
      "Epoch 86/3000\n",
      "521/521 [==============================] - 3s 5ms/step - loss: 0.0100 - val_loss: 0.0131\n",
      "Epoch 87/3000\n",
      "521/521 [==============================] - 3s 5ms/step - loss: 0.0100 - val_loss: 0.0123\n",
      "Epoch 88/3000\n",
      "521/521 [==============================] - 3s 5ms/step - loss: 0.0099 - val_loss: 0.0122\n",
      "Epoch 89/3000\n",
      "521/521 [==============================] - 3s 5ms/step - loss: 0.0099 - val_loss: 0.0121\n",
      "Epoch 90/3000\n",
      "521/521 [==============================] - 3s 5ms/step - loss: 0.0098 - val_loss: 0.0121\n",
      "Epoch 91/3000\n",
      "521/521 [==============================] - 3s 5ms/step - loss: 0.0098 - val_loss: 0.0120\n",
      "Epoch 92/3000\n",
      "521/521 [==============================] - 3s 5ms/step - loss: 0.0098 - val_loss: 0.0123\n",
      "Epoch 93/3000\n",
      "521/521 [==============================] - 3s 5ms/step - loss: 0.0097 - val_loss: 0.0120\n",
      "Epoch 94/3000\n",
      "521/521 [==============================] - 3s 5ms/step - loss: 0.0097 - val_loss: 0.0122\n",
      "Epoch 95/3000\n",
      "521/521 [==============================] - 3s 5ms/step - loss: 0.0097 - val_loss: 0.0118\n",
      "Epoch 96/3000\n",
      "521/521 [==============================] - 3s 5ms/step - loss: 0.0096 - val_loss: 0.0118\n",
      "Epoch 97/3000\n",
      "521/521 [==============================] - 3s 5ms/step - loss: 0.0096 - val_loss: 0.0118\n",
      "Epoch 98/3000\n",
      "521/521 [==============================] - 3s 5ms/step - loss: 0.0096 - val_loss: 0.0118\n",
      "Epoch 99/3000\n",
      "521/521 [==============================] - 3s 5ms/step - loss: 0.0095 - val_loss: 0.0120\n",
      "Epoch 100/3000\n",
      "521/521 [==============================] - 3s 5ms/step - loss: 0.0095 - val_loss: 0.0121\n",
      "Epoch 101/3000\n",
      "521/521 [==============================] - 3s 5ms/step - loss: 0.0095 - val_loss: 0.0116\n",
      "Epoch 102/3000\n",
      "521/521 [==============================] - 3s 5ms/step - loss: 0.0095 - val_loss: 0.0116\n",
      "Epoch 103/3000\n",
      "521/521 [==============================] - 3s 5ms/step - loss: 0.0094 - val_loss: 0.0120\n",
      "Epoch 104/3000\n",
      "521/521 [==============================] - 3s 5ms/step - loss: 0.0094 - val_loss: 0.0117\n",
      "Epoch 105/3000\n",
      "521/521 [==============================] - 3s 5ms/step - loss: 0.0094 - val_loss: 0.0122\n",
      "Epoch 106/3000\n",
      "521/521 [==============================] - 3s 5ms/step - loss: 0.0093 - val_loss: 0.0116\n",
      "Epoch 107/3000\n",
      "521/521 [==============================] - 3s 5ms/step - loss: 0.0093 - val_loss: 0.0114\n",
      "Epoch 108/3000\n",
      "521/521 [==============================] - 3s 5ms/step - loss: 0.0093 - val_loss: 0.0117\n",
      "Epoch 109/3000\n",
      "521/521 [==============================] - 3s 5ms/step - loss: 0.0093 - val_loss: 0.0120\n",
      "Epoch 110/3000\n",
      "521/521 [==============================] - 3s 5ms/step - loss: 0.0093 - val_loss: 0.0117\n",
      "Epoch 111/3000\n",
      "521/521 [==============================] - 3s 5ms/step - loss: 0.0092 - val_loss: 0.0116\n",
      "Epoch 112/3000\n",
      "521/521 [==============================] - 3s 5ms/step - loss: 0.0092 - val_loss: 0.0114\n",
      "Epoch 113/3000\n",
      "521/521 [==============================] - 3s 5ms/step - loss: 0.0092 - val_loss: 0.0115\n",
      "Epoch 114/3000\n",
      "521/521 [==============================] - 3s 5ms/step - loss: 0.0092 - val_loss: 0.0113\n",
      "Epoch 115/3000\n",
      "521/521 [==============================] - 3s 5ms/step - loss: 0.0092 - val_loss: 0.0115\n",
      "Epoch 116/3000\n",
      "521/521 [==============================] - 3s 5ms/step - loss: 0.0091 - val_loss: 0.0116\n",
      "Epoch 117/3000\n",
      "521/521 [==============================] - 3s 5ms/step - loss: 0.0091 - val_loss: 0.0113\n",
      "Epoch 118/3000\n",
      "521/521 [==============================] - 3s 5ms/step - loss: 0.0091 - val_loss: 0.0113\n",
      "Epoch 119/3000\n",
      "521/521 [==============================] - 3s 5ms/step - loss: 0.0090 - val_loss: 0.0113\n",
      "Epoch 120/3000\n",
      "521/521 [==============================] - 3s 5ms/step - loss: 0.0090 - val_loss: 0.0114\n",
      "Epoch 121/3000\n",
      "521/521 [==============================] - 3s 5ms/step - loss: 0.0090 - val_loss: 0.0120\n",
      "Epoch 122/3000\n",
      "521/521 [==============================] - 3s 5ms/step - loss: 0.0090 - val_loss: 0.0112\n",
      "Epoch 123/3000\n",
      "521/521 [==============================] - 3s 5ms/step - loss: 0.0090 - val_loss: 0.0112\n",
      "Epoch 124/3000\n",
      "521/521 [==============================] - 3s 5ms/step - loss: 0.0090 - val_loss: 0.0112\n",
      "Epoch 125/3000\n",
      "521/521 [==============================] - 3s 5ms/step - loss: 0.0089 - val_loss: 0.0110\n",
      "Epoch 126/3000\n",
      "521/521 [==============================] - 3s 5ms/step - loss: 0.0089 - val_loss: 0.0115\n",
      "Epoch 127/3000\n",
      "521/521 [==============================] - 3s 5ms/step - loss: 0.0090 - val_loss: 0.0113\n",
      "Epoch 128/3000\n",
      "521/521 [==============================] - 3s 5ms/step - loss: 0.0089 - val_loss: 0.0113\n",
      "Epoch 129/3000\n",
      "521/521 [==============================] - 3s 5ms/step - loss: 0.0089 - val_loss: 0.0111\n",
      "Epoch 130/3000\n",
      "521/521 [==============================] - 3s 5ms/step - loss: 0.0089 - val_loss: 0.0112\n",
      "Epoch 130: early stopping\n"
     ]
    },
    {
     "data": {
      "text/plain": [
       "<Axes: >"
      ]
     },
     "execution_count": 89,
     "metadata": {},
     "output_type": "execute_result"
    },
    {
     "data": {
      "image/png": "[encoded data removed]",
      "text/plain": [
       "<Figure size 640x480 with 1 Axes>"
      ]
     },
     "metadata": {},
     "output_type": "display_data"
    }
   ],
   "source": [
    "trained2 = model2.fit(trainX2, trainy2, validation_split=0.2, batch_size=64, epochs=3000, callbacks = [early_stopping])\n",
    "pd.DataFrame.from_dict(trained2.history).plot()"
   ]
  },
  {
   "cell_type": "code",
   "execution_count": 90,
   "metadata": {},
   "outputs": [
    {
     "name": "stdout",
     "output_type": "stream",
     "text": [
      "558/558 [==============================] - 1s 1ms/step - loss: 0.0101\n",
      "Test loss: 0.010138602927327156\n"
     ]
    }
   ],
   "source": [
    "loss2 = model2.evaluate(testX2, testy2)\n",
    "print(f\"Test loss: {loss2}\")"
   ]
  },
  {
   "cell_type": "code",
   "execution_count": 91,
   "metadata": {},
   "outputs": [
    {
     "name": "stdout",
     "output_type": "stream",
     "text": [
      "558/558 [==============================] - 1s 1ms/step\n"
     ]
    },
    {
     "data": {
      "text/plain": [
       "array([[ 0.06971031],\n",
       "       [ 0.0848824 ],\n",
       "       [ 0.15621985],\n",
       "       ...,\n",
       "       [-0.13796763],\n",
       "       [-0.12386412],\n",
       "       [-0.09705208]], dtype=float32)"
      ]
     },
     "execution_count": 91,
     "metadata": {},
     "output_type": "execute_result"
    }
   ],
   "source": [
    "result2 = model2.predict(testX2)\n",
    "result2 = scaler.inverse_transform(result2)\n",
    "result2"
   ]
  },
  {
   "cell_type": "code",
   "execution_count": 92,
   "metadata": {},
   "outputs": [
    {
     "data": {
      "text/plain": [
       "array([[0.06971031],\n",
       "       [0.0848824 ],\n",
       "       [0.15621985],\n",
       "       ...,\n",
       "       [0.        ],\n",
       "       [0.        ],\n",
       "       [0.        ]], dtype=float32)"
      ]
     },
     "execution_count": 92,
     "metadata": {},
     "output_type": "execute_result"
    }
   ],
   "source": [
    "result2 = np.maximum(0, result2)\n",
    "\n",
    "result2"
   ]
  },
  {
   "cell_type": "code",
   "execution_count": 93,
   "metadata": {},
   "outputs": [
    {
     "data": {
      "text/html": [
       "<div>\n",
       "<style scoped>\n",
       "    .dataframe tbody tr th:only-of-type {\n",
       "        vertical-align: middle;\n",
       "    }\n",
       "\n",
       "    .dataframe tbody tr th {\n",
       "        vertical-align: top;\n",
       "    }\n",
       "\n",
       "    .dataframe thead th {\n",
       "        text-align: right;\n",
       "    }\n",
       "</style>\n",
       "<table border=\"1\" class=\"dataframe\">\n",
       "  <thead>\n",
       "    <tr style=\"text-align: right;\">\n",
       "      <th></th>\n",
       "      <th>0</th>\n",
       "    </tr>\n",
       "    <tr>\n",
       "      <th>date</th>\n",
       "      <th></th>\n",
       "    </tr>\n",
       "  </thead>\n",
       "  <tbody>\n",
       "    <tr>\n",
       "      <th>2021-10-03 00:00:00</th>\n",
       "      <td>0.069710</td>\n",
       "    </tr>\n",
       "    <tr>\n",
       "      <th>2021-10-03 01:00:00</th>\n",
       "      <td>0.084882</td>\n",
       "    </tr>\n",
       "    <tr>\n",
       "      <th>2021-10-03 02:00:00</th>\n",
       "      <td>0.156220</td>\n",
       "    </tr>\n",
       "    <tr>\n",
       "      <th>2021-10-03 03:00:00</th>\n",
       "      <td>0.094358</td>\n",
       "    </tr>\n",
       "    <tr>\n",
       "      <th>2021-10-03 04:00:00</th>\n",
       "      <td>0.093940</td>\n",
       "    </tr>\n",
       "    <tr>\n",
       "      <th>...</th>\n",
       "      <td>...</td>\n",
       "    </tr>\n",
       "    <tr>\n",
       "      <th>2023-10-16 19:00:00</th>\n",
       "      <td>0.000000</td>\n",
       "    </tr>\n",
       "    <tr>\n",
       "      <th>2023-10-16 20:00:00</th>\n",
       "      <td>0.063112</td>\n",
       "    </tr>\n",
       "    <tr>\n",
       "      <th>2023-10-16 21:00:00</th>\n",
       "      <td>0.000000</td>\n",
       "    </tr>\n",
       "    <tr>\n",
       "      <th>2023-10-16 22:00:00</th>\n",
       "      <td>0.000000</td>\n",
       "    </tr>\n",
       "    <tr>\n",
       "      <th>2023-10-16 23:00:00</th>\n",
       "      <td>0.000000</td>\n",
       "    </tr>\n",
       "  </tbody>\n",
       "</table>\n",
       "<p>17856 rows × 1 columns</p>\n",
       "</div>"
      ],
      "text/plain": [
       "                            0\n",
       "date                         \n",
       "2021-10-03 00:00:00  0.069710\n",
       "2021-10-03 01:00:00  0.084882\n",
       "2021-10-03 02:00:00  0.156220\n",
       "2021-10-03 03:00:00  0.094358\n",
       "2021-10-03 04:00:00  0.093940\n",
       "...                       ...\n",
       "2023-10-16 19:00:00  0.000000\n",
       "2023-10-16 20:00:00  0.063112\n",
       "2023-10-16 21:00:00  0.000000\n",
       "2023-10-16 22:00:00  0.000000\n",
       "2023-10-16 23:00:00  0.000000\n",
       "\n",
       "[17856 rows x 1 columns]"
      ]
     },
     "execution_count": 93,
     "metadata": {},
     "output_type": "execute_result"
    }
   ],
   "source": [
    "pred_frame2= pd.DataFrame(result2)\n",
    "pred_frame2.index = date_range_values\n",
    "pred_frame2"
   ]
  },
  {
   "cell_type": "code",
   "execution_count": 94,
   "metadata": {},
   "outputs": [
    {
     "data": {
      "image/png": "[encoded data removed]",
      "text/plain": [
       "<Figure size 640x480 with 1 Axes>"
      ]
     },
     "metadata": {},
     "output_type": "display_data"
    }
   ],
   "source": [
    "plt.title(\"Predicted with All Data batch: 64 (sequence)\")\n",
    "plt.plot(yy, c=\"g\", label=\"raw\")\n",
    "plt.plot(pred_frame2, c=\"b\", alpha=.4, label=\"predicted\")\n",
    "plt.legend(loc=\"best\")\n",
    "plt.show()"
   ]
  },
  {
   "cell_type": "code",
   "execution_count": 98,
   "metadata": {},
   "outputs": [
    {
     "name": "stdout",
     "output_type": "stream",
     "text": [
      "MSE: 0.2984541046479232, RMSE: 0.5463095319028611\n"
     ]
    }
   ],
   "source": [
    "error2 = mean_squared_error(yy.values, result2)\n",
    "\n",
    "print(\"MSE: {}, RMSE: {}\".format(error2, np.sqrt(error2)))"
   ]
  },
  {
   "cell_type": "code",
   "execution_count": null,
   "metadata": {},
   "outputs": [
    {
     "data": {
      "image/png": "[encoded data removed]",
      "text/plain": [
       "<Figure size 640x480 with 1 Axes>"
      ]
     },
     "metadata": {},
     "output_type": "display_data"
    }
   ],
   "source": [
    "import matplotlib.pyplot as plt\n",
    "\n",
    "plt.title(\"Predicted Values Comparison\")\n",
    "plt.plot( predicted1, c=\"b\", label=\"with_corr\")\n",
    "plt.plot(result2,c=\"g\", label=\"all_data\", alpha=.4)\n",
    "plt.xticks()\n",
    "plt.legend(loc=\"best\")\n",
    "plt.show()"
   ]
  },
  {
   "cell_type": "code",
   "execution_count": null,
   "metadata": {},
   "outputs": [],
   "source": []
  }
 ],
 "metadata": {
  "kernelspec": {
   "display_name": "Python 3",
   "language": "python",
   "name": "python3"
  },
  "language_info": {
   "codemirror_mode": {
    "name": "ipython",
    "version": 3
   },
   "file_extension": ".py",
   "mimetype": "text/x-python",
   "name": "python",
   "nbconvert_exporter": "python",
   "pygments_lexer": "ipython3",
   "version": "3.11.6"
  }
 },
 "nbformat": 4,
 "nbformat_minor": 2
}
